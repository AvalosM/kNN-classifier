{
 "cells": [
  {
   "cell_type": "markdown",
   "metadata": {},
   "source": [
    "#### Configure project"
   ]
  },
  {
   "cell_type": "code",
   "execution_count": null,
   "metadata": {},
   "outputs": [],
   "source": [
    "# !cd .. && mkdir build\n",
    "# !cd ../build/ && rm -rf *\n",
    "# !rm -f *.so\n",
    "# !cd ../build && cmake -DCMAKE_BUILD_TYPE=Release .."
   ]
  },
  {
   "cell_type": "markdown",
   "metadata": {},
   "source": [
    "#### Compile and install"
   ]
  },
  {
   "cell_type": "code",
   "execution_count": null,
   "metadata": {},
   "outputs": [],
   "source": [
    "# !cd ../build && make install"
   ]
  },
  {
   "cell_type": "markdown",
   "metadata": {},
   "source": [
    "#### Imports"
   ]
  },
  {
   "cell_type": "code",
   "execution_count": null,
   "metadata": {},
   "outputs": [],
   "source": [
    "import kNN\n",
    "import pandas as pd\n",
    "import numpy as np\n",
    "from tqdm.notebook import tqdm\n",
    "import timeit\n",
    "np.random.seed(1998)"
   ]
  },
  {
   "cell_type": "code",
   "execution_count": null,
   "metadata": {},
   "outputs": [],
   "source": [
    "import matplotlib.pyplot as plt\n",
    "plt.style.use('seaborn-whitegrid')\n",
    "plt.rcParams[\"figure.figsize\"] = (10,5)"
   ]
  },
  {
   "cell_type": "markdown",
   "metadata": {},
   "source": [
    "#### Utils"
   ]
  },
  {
   "cell_type": "code",
   "execution_count": null,
   "metadata": {},
   "outputs": [],
   "source": [
    "from sklearn.model_selection import KFold\n",
    "from sklearn.metrics import accuracy_score\n",
    "from sklearn.metrics import recall_score\n",
    "from sklearn.metrics import precision_score\n",
    "from sklearn.metrics import f1_score\n",
    "\n",
    "labels_ = [0,1,2,3,4,5,6,7,8,9]\n",
    "label_count_ = 10\n",
    "\n",
    "def data_labels(dataset):\n",
    "    return (dataset[dataset.columns[1:]].values, dataset[\"label\"].values.reshape(-1,1))\n",
    "\n",
    "def save_df(df, name):\n",
    "    df.to_csv(\"res/{}.csv\".format(name), index=False, header=True)\n",
    "\n",
    "# Returns k splits of dataset (indexes)\n",
    "def Kfold_gen_splits(dataset, K):\n",
    "    return KFold(n_splits=K, shuffle=False, random_state=None).split(dataset)\n",
    "\n",
    "# Returns ((train_data, train_labels),(val_data, val_labels)) pair\n",
    "def Kfold_get_split(dataset, split):\n",
    "    train, test = split\n",
    "    return (data_labels(dataset.iloc[train]), data_labels(dataset.iloc[test]))\n",
    "\n",
    "def metrics(true_labels, pred_labels):\n",
    "    accuracy = accuracy_score(y_true=true_labels, y_pred=pred_labels)\n",
    "    precision = precision_score(y_true=true_labels, y_pred=pred_labels, labels=labels_, average='weighted', zero_division=0)\n",
    "    recall = recall_score(y_true=true_labels, y_pred=pred_labels, labels=labels_, average='weighted', zero_division=0)\n",
    "    f1 = f1_score(y_true=true_labels, y_pred=pred_labels, labels=labels_, average='weighted', zero_division=0)\n",
    "    return [accuracy, precision, recall, f1]\n",
    "\n",
    "def kNN_Kfold(dataset, K, ks, results):\n",
    "    splits = Kfold_gen_splits(dataset, K)\n",
    "    clf = kNN.KNNClassifier(0, label_count_)\n",
    "    dataset_size = dataset.shape[0]\n",
    "    for split in splits:\n",
    "        train_folds, test_fold = Kfold_get_split(dataset, split)\n",
    "        clf.fit(train_folds[0], train_folds[1])\n",
    "        for k in ks:\n",
    "            clf.setneighbors(k)\n",
    "            pred_labels = clf.predict(test_fold[0])\n",
    "            results.loc[len(results)] = [K, k, dataset_size] + metrics(test_fold[1], pred_labels)\n",
    "    return results"
   ]
  },
  {
   "cell_type": "markdown",
   "metadata": {},
   "source": [
    "#### Load dataset"
   ]
  },
  {
   "cell_type": "code",
   "execution_count": null,
   "metadata": {},
   "outputs": [],
   "source": [
    "df_train = pd.read_csv(\"../data/fashion-mnist_train.csv\")\n",
    "df_test = pd.read_csv(\"../data/fashion-mnist_test.csv\")\n",
    "label_description = {0:\"T-shirt/top\", 1:\"Trouser\", 2:\"Pullover\", 3:\"Dress\", 4:\"Coat\", 5:\"Sandal\", 6:\"Shirt\", 7:\"Sneaker\", 8:\"Bag\", 9:\"Ankle boot\"}"
   ]
  },
  {
   "cell_type": "code",
   "execution_count": null,
   "metadata": {},
   "outputs": [],
   "source": [
    "# # Check label distribution\n",
    "# print(df_train[\"label\"].value_counts(normalize=True))\n",
    "\n",
    "# # Visualize\n",
    "# examples = df_train.groupby(\"label\").sample(1)\n",
    "# fig = plt.figure()\n",
    "# for i in range(0,10):\n",
    "#     fig.add_subplot(2, 5, i+1)\n",
    "#     example = examples.iloc[i].to_numpy()\n",
    "#     plt.imshow(example[1:].reshape(28,28))\n",
    "#     plt.axis('off')\n",
    "#     plt.title(label_description[example[0]])"
   ]
  },
  {
   "cell_type": "code",
   "execution_count": null,
   "metadata": {},
   "outputs": [],
   "source": [
    "# Reduced dataset to test\n",
    "df_train_small = df_train.groupby(\"label\").sample(300)\n",
    "df_train_small = df_train_small.sample(frac=1)"
   ]
  },
  {
   "cell_type": "markdown",
   "metadata": {},
   "source": [
    "## Experimentation"
   ]
  },
  {
   "cell_type": "code",
   "execution_count": null,
   "metadata": {},
   "outputs": [],
   "source": [
    "columns = [\"K\", \"k\", \"size\", \"accuracy\", \"precision\", \"recall\", \"f1\"]"
   ]
  },
  {
   "cell_type": "markdown",
   "metadata": {},
   "source": [
    "### Cross validation"
   ]
  },
  {
   "cell_type": "markdown",
   "metadata": {},
   "source": [
    "#### Leave-One-Out CV"
   ]
  },
  {
   "cell_type": "code",
   "execution_count": null,
   "metadata": {},
   "outputs": [],
   "source": [
    "# K = df_train_small.shape[0]\n",
    "# k = 10\n",
    "# results = pd.DataFrame(columns=columns)\n",
    "# kNN_Kfold(df_train_small, K, [k], results)\n",
    "# save_df(results, 'LOOCV')"
   ]
  },
  {
   "cell_type": "markdown",
   "metadata": {},
   "source": [
    "#### KFold CV"
   ]
  },
  {
   "cell_type": "code",
   "execution_count": null,
   "metadata": {},
   "outputs": [],
   "source": [
    "# Ks = np.arange(2, 30+2, 1)\n",
    "# k = 10\n",
    "# results = pd.DataFrame(columns=columns)\n",
    "# for K in tqdm(Ks, position=0, leave=True):\n",
    "#     kNN_Kfold(df_train_small, K, [k], results)\n",
    "# save_df(results, \"KFold_K\")"
   ]
  },
  {
   "cell_type": "code",
   "execution_count": null,
   "metadata": {},
   "outputs": [],
   "source": [
    "# df = pd.read_csv('res/KFold_K.csv')\n",
    "# df = df.groupby('K')\n",
    "# means = df['accuracy'].mean().to_numpy()\n",
    "# mins = means - df['accuracy'].min().to_numpy()\n",
    "# maxs = df['accuracy'].max().to_numpy() - means\n",
    "# ideal = pd.read_csv('res/LOOCV.csv')['accuracy'].mean()\n",
    "# plt.errorbar(df['K'].mean().to_numpy(), means, yerr=[mins, maxs], fmt='o')\n",
    "# plt.axhline(y=ideal, color='r', label='LOOCV estimation')\n",
    "# plt.legend()\n",
    "# plt.xlabel('K-Folds')\n",
    "# plt.ylabel('Accuracy')"
   ]
  },
  {
   "cell_type": "markdown",
   "metadata": {},
   "source": [
    "K=10 seems to be a reasonable value"
   ]
  },
  {
   "cell_type": "code",
   "execution_count": null,
   "metadata": {},
   "outputs": [],
   "source": [
    "K_ = 10"
   ]
  },
  {
   "cell_type": "markdown",
   "metadata": {},
   "source": [
    "### kNN analysis"
   ]
  },
  {
   "cell_type": "markdown",
   "metadata": {},
   "source": [
    "#### Accuracy"
   ]
  },
  {
   "cell_type": "markdown",
   "metadata": {},
   "source": [
    "Fixed k, training dataset size variable"
   ]
  },
  {
   "cell_type": "code",
   "execution_count": null,
   "metadata": {},
   "outputs": [],
   "source": [
    "ks = [10]\n",
    "sizes = np.arange(10, df_train_small.shape[0]+1, 10)\n",
    "results = pd.DataFrame(columns=columns)\n",
    "for size in tqdm(sizes):\n",
    "    # sampled_df = df_train_small.groupby('label').apply(lambda x: x.sample(size//10))\n",
    "    kNN_Kfold(df_train_small.sample(size), K_, ks, results)\n",
    "save_df(results, \"kNN_k_fixed\")"
   ]
  },
  {
   "cell_type": "code",
   "execution_count": null,
   "metadata": {},
   "outputs": [],
   "source": [
    "df = pd.read_csv(\"res/kNN_k_fixed.csv\")\n",
    "df = \n",
    "g = sns.scatterplot(data=df, x='size', y='acc', label='accuracy')\n",
    "plt.xlabel(\"Training dataset size\")\n",
    "plt.ylabel(\"Score\")"
   ]
  },
  {
   "cell_type": "markdown",
   "metadata": {},
   "source": [
    "Variable k, fixed dataset size"
   ]
  },
  {
   "cell_type": "code",
   "execution_count": null,
   "metadata": {},
   "outputs": [],
   "source": [
    "clf = kNN.KNNClassifier(1, 10)\n",
    "clf.fit(train_vectors, train_labels)\n",
    "ks = np.arange(1, 201, 1)\n",
    "accs = []\n",
    "f1s = []\n",
    "for k in tqdm(ks):\n",
    "    clf.setneighbors(k)\n",
    "    accs.append(accuracy_score(val_labels, clf.predict(val_vectors)))\n",
    "save_res([\"k\",\"acc\"], zip(ks, accs), \"kNN-acc-kvariable\")"
   ]
  },
  {
   "cell_type": "code",
   "execution_count": null,
   "metadata": {},
   "outputs": [],
   "source": [
    "df = pd.read_csv(\"res/kNN-acc-kvariable.csv\")\n",
    "g = sns.lineplot(data=df, x='k', y='acc')\n",
    "plt.xlabel(\"k\")\n",
    "plt.ylabel(\"Accuracy\")\n",
    "plt.show()"
   ]
  },
  {
   "cell_type": "markdown",
   "metadata": {},
   "source": [
    "#### Performance"
   ]
  },
  {
   "cell_type": "markdown",
   "metadata": {},
   "source": [
    "k proportional to training dataset size"
   ]
  },
  {
   "cell_type": "code",
   "execution_count": null,
   "metadata": {},
   "outputs": [],
   "source": [
    "clf = kNN.KNNClassifier(1, 10)\n",
    "sizes = np.arange(1, 1001, 1)\n",
    "times = []\n",
    "results = pd.DataFrame(columns=['size', 'time', 'k'])\n",
    "for i in tqdm(sizes):\n",
    "    clf.fit(train_data_small[0:i], train_labels_small[0:i])\n",
    "    clf.setneighbors(i)\n",
    "    results.loc[len(results)] = [i, (timeit.timeit(lambda: clf.predict(val_data_small[0]), number = 20)/20),i]\n",
    "save_df(results, 'kNN_time_k_prop')"
   ]
  },
  {
   "cell_type": "markdown",
   "metadata": {},
   "source": [
    "Fixed k, training dataset size variable"
   ]
  },
  {
   "cell_type": "code",
   "execution_count": null,
   "metadata": {},
   "outputs": [],
   "source": [
    "clf = kNN.KNNClassifier(1, 10)\n",
    "sizes = np.arange(1, 1001, 1)\n",
    "times = []\n",
    "results = pd.DataFrame(columns=['size', 'time', 'k'])\n",
    "for i in tqdm(sizes):\n",
    "    clf.fit(train_data_small[0:i], train_labels_small[0:i])\n",
    "    results.loc[len(results)] = [i, (timeit.timeit(lambda: clf.predict(val_data_small[0]), number = 100)/100), 1]\n",
    "save_df(results, 'kNN_time_k_fixed')"
   ]
  },
  {
   "cell_type": "code",
   "execution_count": null,
   "metadata": {},
   "outputs": [],
   "source": [
    "df_kfixed = pd.read_csv(\"res/kNN_time_k_fixed.csv\")\n",
    "df_kprop = pd.read_csv(\"res/kNN_time_k_prop.csv\")\n",
    "g = sns.lineplot(data=df_kfixed, x='size', y='time', label='k = 1')\n",
    "sns.lineplot(data=df_kprop, x='size', y='time', label='k = Dataset size')\n",
    "plt.xlabel(\"Train dataset size\")\n",
    "plt.ylabel(\"Time(s)\")"
   ]
  },
  {
   "cell_type": "markdown",
   "metadata": {},
   "source": [
    "### PCA analysis"
   ]
  },
  {
   "cell_type": "code",
   "execution_count": null,
   "metadata": {},
   "outputs": [],
   "source": [
    "# Fit PCA\n",
    "pca = kNN.PCA(train_vectors.shape[1])\n",
    "pca.fit(train_vectors)"
   ]
  },
  {
   "cell_type": "markdown",
   "metadata": {},
   "source": [
    "#### Principal component number"
   ]
  },
  {
   "cell_type": "markdown",
   "metadata": {},
   "source": [
    "##### Scree plot"
   ]
  },
  {
   "cell_type": "code",
   "execution_count": null,
   "metadata": {},
   "outputs": [],
   "source": [
    "values = pca.pc_values()\n",
    "g = sns.lineplot(data=values[0:100], legend='full')\n",
    "plt.axhline(y=values[2], color='orange', linestyle='--')\n",
    "plt.axhline(y=values[50], color='r', linestyle='--')\n",
    "plt.xlabel(\"Components\")\n",
    "plt.ylabel(\"Eigenvalue\")\n",
    "plt.show()"
   ]
  },
  {
   "cell_type": "markdown",
   "metadata": {},
   "source": [
    "##### Accumulated explained variance"
   ]
  },
  {
   "cell_type": "code",
   "execution_count": null,
   "metadata": {},
   "outputs": [],
   "source": [
    "ratios = pca.pc_values()/sum(values)\n",
    "var_accum = ratios.cumsum()\n",
    "g = sns.lineplot(data=var_accum, label='Variance explained')\n",
    "plt.axhline(y=var_accum[2], color='orange', linestyle='--', label='1 Component')\n",
    "plt.axhline(y=var_accum[50], color='r', linestyle='--', label='50 Components')\n",
    "plt.legend()\n",
    "plt.xlabel(\"Components\")\n",
    "plt.ylabel(\"Variance explained\")"
   ]
  },
  {
   "cell_type": "markdown",
   "metadata": {},
   "source": [
    "##### kNN + PCA"
   ]
  },
  {
   "cell_type": "markdown",
   "metadata": {},
   "source": [
    "Now lets see how alpha affects kNN accuracy"
   ]
  },
  {
   "cell_type": "code",
   "execution_count": null,
   "metadata": {},
   "outputs": [],
   "source": [
    "ks = np.arange(5, 20, 1)\n",
    "alphas = np.arange(25, 75,1)\n",
    "accs = []\n",
    "clf = kNN.KNNClassifier(1, 10)\n",
    "for alpha in tqdm(alphas):\n",
    "    pca.setalpha(alpha)\n",
    "    train_vectors_t = pca.transform(train_vectors)\n",
    "    for k in ks:\n",
    "        clf.setneighbors(k)\n",
    "        clf.fit(train_vectors_t, train_labels)\n",
    "        pred_labels = clf.predict(val_vectors)\n",
    "        accs.append(accuracy_score(val_labels, pred_labels))\n",
    "    save_res([\"k\",\"acc\"], zip(ks, accs), \"kNN-acc-kvariable\")"
   ]
  },
  {
   "cell_type": "markdown",
   "metadata": {},
   "source": [
    "### PCA & t-sne"
   ]
  },
  {
   "cell_type": "code",
   "execution_count": null,
   "metadata": {},
   "outputs": [],
   "source": [
    "pca.setalpha(2)\n",
    "train_vectors_t = pca.transform(train_vectors)\n",
    "df = pd.DataFrame(train_vectors_t, columns=[\"x\",\"y\"])\n",
    "df[\"label\"] = train_labels\n",
    "g = sns.scatterplot(data=df, x='x', y='y', hue='label', palette=sns.color_palette(\"hls\",10))\n",
    "plt.xlabel('Component 1')\n",
    "plt.ylabel('Component 2')"
   ]
  },
  {
   "cell_type": "code",
   "execution_count": null,
   "metadata": {},
   "outputs": [],
   "source": [
    "from sklearn.manifold import TSNE\n",
    "X_embedded = TSNE(n_components=2, perplexity=50, early_exaggeration=20, learning_rate=500, init='random').fit_transform(train_vectors)\n",
    "df = pd.DataFrame(X_embedded, columns=[\"x\", \"y\"])\n",
    "df[\"label\"] = train_labels\n",
    "g = sns.scatterplot(data=df, x='x', y='y', hue='label', palette=sns.color_palette(\"hls\",10))"
   ]
  },
  {
   "cell_type": "code",
   "execution_count": null,
   "metadata": {},
   "outputs": [],
   "source": [
    "pca.setalpha(25)\n",
    "train_vectors_t = pca.transform(train_vectors)\n",
    "X_embedded = TSNE(n_components=2, perplexity=50, learning_rate='auto', init='random').fit_transform(train_vectors_t)\n",
    "df = pd.DataFrame(X_embedded, columns=[\"x\", \"y\"])\n",
    "df[\"label\"] = train_labels\n",
    "g = sns.scatterplot(data=df, x='x', y='y', hue='label', palette=sns.color_palette(\"hls\",10))"
   ]
  }
 ],
 "metadata": {
  "interpreter": {
   "hash": "f216903615eb8d87c55bd710f78c97e5d3ece4431102e2f634bf3faeb40be796"
  },
  "kernelspec": {
   "display_name": "Python 3.9.2 ('knn-classifier')",
   "language": "python",
   "name": "python3"
  },
  "language_info": {
   "codemirror_mode": {
    "name": "ipython",
    "version": 3
   },
   "file_extension": ".py",
   "mimetype": "text/x-python",
   "name": "python",
   "nbconvert_exporter": "python",
   "pygments_lexer": "ipython3",
   "version": "3.9.2"
  },
  "orig_nbformat": 4
 },
 "nbformat": 4,
 "nbformat_minor": 2
}
