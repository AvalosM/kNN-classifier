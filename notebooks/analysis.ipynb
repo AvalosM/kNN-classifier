{
 "cells": [
  {
   "cell_type": "code",
   "execution_count": null,
   "metadata": {},
   "outputs": [],
   "source": [
    "import pandas as pd\n",
    "import numpy as np"
   ]
  },
  {
   "cell_type": "code",
   "execution_count": null,
   "metadata": {},
   "outputs": [],
   "source": [
    "import matplotlib.pyplot as plt\n",
    "plt.style.use('seaborn-paper')\n",
    "plt.rcParams[\"figure.figsize\"] = (12,8)\n",
    "plt.rcParams.update({'font.size': 22})\n",
    "# plt.rcParams.update({'figure.autolayout': True})"
   ]
  },
  {
   "cell_type": "code",
   "execution_count": null,
   "metadata": {},
   "outputs": [],
   "source": [
    "def data_labels(dataset):\n",
    "    return (dataset[dataset.columns[1:]].values, dataset[dataset.columns[0]])"
   ]
  },
  {
   "cell_type": "code",
   "execution_count": null,
   "metadata": {},
   "outputs": [],
   "source": [
    "df_train = pd.read_csv(\"../data/fashion-mnist_train.csv\")\n",
    "df_test = pd.read_csv(\"../data/fashion-mnist_test.csv\")\n",
    "labels = [0, 1, 2, 3, 4, 5, 6, 7, 8, 9]\n",
    "label_count = 10\n",
    "label_descriptions = [\"T-shirt/top\", \"Trouser\",\"Pullover\", \"Dress\", \"Coat\", \"Sandal\", \"Shirt\", \"Sneaker\", \"Bag\", \"Ankle boot\"]\n",
    "train_data, train_labels = data_labels(df_train)"
   ]
  },
  {
   "cell_type": "code",
   "execution_count": null,
   "metadata": {},
   "outputs": [],
   "source": [
    "print(sum(labels))"
   ]
  },
  {
   "cell_type": "code",
   "execution_count": null,
   "metadata": {},
   "outputs": [],
   "source": [
    "# Check label distribution\n",
    "print(df_train[\"label\"].value_counts(normalize=True).to_numpy())\n",
    "print(df_test[\"label\"].value_counts(normalize=True).to_numpy())\n",
    "# Visualize\n",
    "examples = df_train.groupby(\"label\").sample(1)\n",
    "fig = plt.figure()\n",
    "for i in range(0,10):\n",
    "    fig.add_subplot(2, 5, i+1)\n",
    "    example = examples.iloc[i].to_numpy()\n",
    "    plt.imshow(example[1:].reshape(28,28))\n",
    "    plt.axis('off')\n",
    "    plt.title(label_descriptions[example[0]])\n",
    "plt.savefig('graphs/images',bbox_inches='tight')"
   ]
  },
  {
   "cell_type": "code",
   "execution_count": null,
   "metadata": {},
   "outputs": [],
   "source": [
    "df = pd.read_csv('res/KFold_K_kNN.csv').groupby('K')\n",
    "means = df['accuracy'].mean().to_numpy()\n",
    "mins = means - df['accuracy'].min().to_numpy()\n",
    "maxs = df['accuracy'].max().to_numpy() - means\n",
    "Ks = list(df['K'].unique())\n",
    "ideal = pd.read_csv('res/LOOCV_kNN.csv')['accuracy'].mean()\n",
    "plt.errorbar(Ks, means, yerr=[mins, maxs], fmt='o', ecolor='deepskyblue', elinewidth=2)\n",
    "plt.axhline(y=ideal, color='r', label='LOOCV estimation')\n",
    "plt.legend()\n",
    "# plt.title(\"kNN mean accuracy for different values of K\")\n",
    "plt.xlabel('K-Folds')\n",
    "plt.ylabel('Accuracy')\n",
    "plt.savefig('graphs/KFold_kNN',bbox_inches='tight')"
   ]
  },
  {
   "cell_type": "code",
   "execution_count": null,
   "metadata": {},
   "outputs": [],
   "source": [
    "fig = plt.figure()\n",
    "ax = fig.add_subplot()\n",
    "df = pd.read_csv(\"res/kNN_k_fixed.csv\").groupby('size')\n",
    "accuracies = df['accuracy'].mean().to_numpy()\n",
    "sizes = df['size'].unique()\n",
    "ax.scatter(x=sizes ,y=accuracies, label=\"k=1\")\n",
    "df = pd.read_csv(\"res/kNN_k_proportional.csv\").groupby('size')\n",
    "accuracies = df['accuracy'].mean().to_numpy()\n",
    "sizes = df['size'].unique()\n",
    "ks = df['k'].unique()\n",
    "ax.scatter(x=sizes, y=accuracies, label=\"k=Train dataset size * 0.1\")\n",
    "df = pd.read_csv(\"res/kNN_k_size.csv\").groupby('size')\n",
    "accuracies = df['accuracy'].mean().to_numpy()\n",
    "sizes = df['size'].unique()\n",
    "ks = df['k'].unique()\n",
    "ax.scatter(x=sizes, y=accuracies, label=\"k=Train dataset size\")\n",
    "plt.xlabel(\"Training dataset size\")\n",
    "plt.ylabel(\"Accuracy\")\n",
    "plt.legend()\n",
    "plt.savefig('graphs/kNN_size',bbox_inches='tight')"
   ]
  },
  {
   "cell_type": "code",
   "execution_count": null,
   "metadata": {},
   "outputs": [],
   "source": [
    "df = pd.read_csv(\"res/kNN_k_linspace.csv\").groupby('k')\n",
    "accuracies = df['accuracy'].mean().to_numpy()\n",
    "ks = df['k'].unique()\n",
    "maxk = ks[accuracies.argmax()+1]\n",
    "fig = plt.figure()\n",
    "ax = fig.add_subplot()\n",
    "ax.plot(ks, accuracies)\n",
    "ax.axvline(maxk, color='r', ls='--', label='k='+str(int(maxk[0])), linewidth=2)\n",
    "plt.xlabel(\"k\")\n",
    "plt.ylabel(\"Accuracy\")\n",
    "plt.legend()\n",
    "plt.savefig('graphs/kNN_k')"
   ]
  },
  {
   "cell_type": "code",
   "execution_count": null,
   "metadata": {},
   "outputs": [],
   "source": [
    "df = pd.read_csv(\"res/kNN_k_logspace.csv\").groupby('k')\n",
    "accuracies = df['accuracy'].mean().to_numpy()\n",
    "ks = df['k'].unique()\n",
    "maxk = ks[accuracies.argmax()+1]\n",
    "fig = plt.figure()\n",
    "ax = fig.add_subplot()\n",
    "ax.scatter(ks, accuracies)\n",
    "plt.xlabel(\"k\")\n",
    "plt.ylabel(\"Accuracy\")\n",
    "plt.savefig('graphs/kNN_k_log')"
   ]
  },
  {
   "cell_type": "code",
   "execution_count": null,
   "metadata": {},
   "outputs": [],
   "source": [
    "df_kfixed = pd.read_csv(\"res/kNN_perf_k_fixed.csv\")\n",
    "df_kprop = pd.read_csv(\"res/kNN_perf_k_proportional.csv\")\n",
    "plt.plot(df_kfixed['size'], df_kfixed['time'], label='k = 1')\n",
    "plt.plot(df_kprop['size'], df_kprop['time'], label='k = Dataset size')\n",
    "plt.xlabel(\"Training dataset size\")\n",
    "plt.ylabel(\"Time(s)\")\n",
    "plt.legend()\n",
    "plt.savefig('graphs/kNN_perf',bbox_inches='tight')"
   ]
  },
  {
   "cell_type": "code",
   "execution_count": null,
   "metadata": {},
   "outputs": [],
   "source": [
    "df = pd.read_csv(\"res/tsne_n2.csv\")\n",
    "fig = plt.figure()\n",
    "ax = plt.subplot()\n",
    "ax.tick_params(axis='both', label1On=False, tick1On=False)\n",
    "scatter = ax.scatter(df['x'], df['y'], c=train_labels, s=2, cmap='tab10')\n",
    "handles, _ = scatter.legend_elements(prop=\"colors\", alpha=1)\n",
    "label_legend = ax.legend(handles, label_descriptions, loc=\"upper right\", title=\"Label\", fancybox=True, shadow=True, bbox_to_anchor=(1,1))\n",
    "plt.savefig('graphs/tsne',bbox_inches='tight')"
   ]
  },
  {
   "cell_type": "code",
   "execution_count": null,
   "metadata": {},
   "outputs": [],
   "source": [
    "df = pd.read_csv(\"res/PCA_alpha2.csv\")\n",
    "fig = plt.figure()\n",
    "ax = plt.subplot()\n",
    "ax.tick_params(axis='both', tick1On=False)\n",
    "scatter = ax.scatter(df['x'], df['y'], c=train_labels, s=2, cmap='tab10')\n",
    "handles, _ = scatter.legend_elements(prop=\"colors\", alpha=1)\n",
    "label_legend = ax.legend(handles, label_descriptions, loc=\"upper right\", title=\"Label\", fancybox=True, shadow=True, bbox_to_anchor=(1, 1))\n",
    "plt.xlabel('Component 1');\n",
    "plt.ylabel('Component 2');\n",
    "plt.savefig('graphs/PCA_r2',bbox_inches='tight')"
   ]
  },
  {
   "cell_type": "code",
   "execution_count": null,
   "metadata": {},
   "outputs": [],
   "source": [
    "df = pd.read_csv(\"res/tsne_PCA_alpha5.csv\")\n",
    "fig = plt.figure()\n",
    "ax = plt.subplot()\n",
    "ax.tick_params(axis='both', label1On=False, tick1On=False)\n",
    "scatter = ax.scatter(df['x'], df['y'], c=train_labels, s=2, cmap='tab10')\n",
    "handles, _ = scatter.legend_elements(prop=\"colors\", alpha=1)\n",
    "label_legend = ax.legend(handles, label_descriptions, loc=\"upper right\", title=\"Label\", fancybox=True, shadow=True, bbox_to_anchor=(1,1))\n",
    "plt.savefig('graphs/tsne_PCA_5',bbox_inches='tight')"
   ]
  },
  {
   "cell_type": "code",
   "execution_count": null,
   "metadata": {},
   "outputs": [],
   "source": [
    "df = pd.read_csv(\"res/tsne_PCA_50.csv\")\n",
    "fig = plt.figure()\n",
    "ax = plt.subplot()\n",
    "ax.tick_params(axis='both', label1On=False, tick1On=False)\n",
    "scatter = ax.scatter(df['x'], df['y'], c=train_labels, s=2, cmap='tab10')\n",
    "handles, _ = scatter.legend_elements(prop=\"colors\", alpha=1)\n",
    "label_legend = ax.legend(handles, label_descriptions, loc=\"upper right\", title=\"Label\", fancybox=True, shadow=True, bbox_to_anchor=(1,1))\n",
    "plt.savefig('graphs/tsne_PCA_50',bbox_inches='tight')"
   ]
  },
  {
   "cell_type": "code",
   "execution_count": null,
   "metadata": {},
   "outputs": [],
   "source": [
    "df = pd.read_csv(\"res/tsne_PCA_100.csv\")\n",
    "fig = plt.figure()\n",
    "ax = plt.subplot()\n",
    "ax.tick_params(axis='both', label1On=False, tick1On=False)\n",
    "scatter = ax.scatter(df['x'], df['y'], c=train_labels, s=2, cmap='tab10')\n",
    "handles, _ = scatter.legend_elements(prop=\"colors\", alpha=1)\n",
    "label_legend = ax.legend(handles, label_descriptions, loc=\"upper right\", title=\"Label\", fancybox=True, shadow=True, bbox_to_anchor=(1,1))\n",
    "plt.savefig('graphs/tsne_PCA_100',bbox_inches='tight')"
   ]
  },
  {
   "cell_type": "code",
   "execution_count": null,
   "metadata": {},
   "outputs": [],
   "source": [
    "values = pd.read_csv(\"res/PCA_component_values.csv\")['values']\n",
    "plt.plot(values[0:100])\n",
    "plt.axhline(y=values[0], color='orange', linestyle='--', label='Component 1')\n",
    "plt.axhline(y=values[76], color='r', linestyle='--', label='Component 76')\n",
    "plt.xlabel(\"Components\")\n",
    "plt.ylabel(\"Eigenvalue\")\n",
    "plt.legend()\n",
    "plt.savefig('graphs/PCA_scree',bbox_inches='tight')\n",
    "plt.show()\n",
    "\n",
    "ratios = values/sum(values)\n",
    "var_accum = ratios.cumsum()\n",
    "plt.plot(var_accum, label='Variance explained')\n",
    "plt.axhline(y=var_accum[0], color='orange', linestyle='--', label='1 Component')\n",
    "plt.axhline(y=var_accum[76], color='r', linestyle='--', label='76 Components')\n",
    "plt.legend()\n",
    "plt.xlabel(\"Components\")\n",
    "plt.ylabel(\"Variance explained\")\n",
    "plt.savefig('graphs/PCA_cev',bbox_inches='tight')\n",
    "plt.show()\n",
    "\n",
    "var_accum = ratios.cumsum()\n",
    "plt.bar(range(0,30,1), ratios[0:30], alpha=0.4, color='red', label='Component explained variance')\n",
    "plt.step(range(0,30,1), var_accum[0:30], label='Cumulative explained variance')\n",
    "plt.legend()\n",
    "plt.savefig('graphs/PCA_ev_ac',bbox_inches='tight')"
   ]
  },
  {
   "cell_type": "code",
   "execution_count": null,
   "metadata": {},
   "outputs": [],
   "source": [
    "df = pd.read_csv(\"res/kNN_PCA_k_alpha_variable.csv\")\n",
    "alphas = df['alpha'].unique().astype(int)\n",
    "ks = df['k'].unique().astype(int)\n",
    "accs = np.empty((len(alphas),len(ks)),dtype=float)\n",
    "for i in range(len(alphas)):\n",
    "    alpha = alphas[i]\n",
    "    df_alpha = df[df['alpha']==alpha]\n",
    "    for j in range(len(ks)):\n",
    "        k = ks[j]\n",
    "        accs[i][j] = df_alpha[df_alpha['k']==k]['accuracy'].mean()\n",
    "a_, k_ = np.meshgrid(ks, alphas)\n",
    "fig = plt.figure()\n",
    "ax = fig.add_subplot(projection='3d')\n",
    "ax.plot_surface(a_, k_, accs, cmap='jet', shade=True)\n",
    "ax.set_ylabel('alpha')\n",
    "ax.set_xlabel('k')\n",
    "ax.set_zlabel('Accuracy')\n",
    "plt.savefig('graphs/kNN_PCA_3d',bbox_inches='tight')"
   ]
  },
  {
   "cell_type": "code",
   "execution_count": null,
   "metadata": {},
   "outputs": [],
   "source": [
    "df = pd.read_csv(\"res/kNN_PCA_k_alpha_variable_small.csv\")\n",
    "alphas = df['alpha'].unique()\n",
    "ks = df['k'].unique()\n",
    "accs = np.empty((len(alphas)-5,len(ks)),dtype=float)\n",
    "for i in range(len(alphas)-5):\n",
    "    alpha = alphas[i+5]\n",
    "    df_alpha = df[df['alpha']==alpha]\n",
    "    for j in range(len(ks)):\n",
    "        k = ks[j]\n",
    "        accs[i][j] = df_alpha[df_alpha['k']==k]['accuracy'].mean()\n",
    "f_max_index = accs.argmax()\n",
    "max_index = np.unravel_index(f_max_index, accs.shape)\n",
    "print(max_index)\n",
    "\n",
    "fig = plt.figure()\n",
    "ax = fig.add_subplot()\n",
    "ax.imshow(accs, cmap='jet', origin='lower', interpolation='none', resample=False)\n",
    "cbar = plt.colorbar(ax.get_images()[0])\n",
    "cbar.set_label('Accuracy')\n",
    "ax.set_xticks(np.linspace(0,100,5, dtype=int))\n",
    "ax.set_xticklabels(np.linspace(1,100,5, dtype=int))\n",
    "ax.set_yticks(np.linspace(0,95,5, dtype=int))\n",
    "ax.set_yticklabels(np.linspace(5,100,5, dtype=int))\n",
    "plt.axvline(max_index[1], linewidth=2, ls='--', label='k=6, alpha=43')\n",
    "plt.axhline(max_index[0], linewidth=2, ls='--')\n",
    "plt.legend()\n",
    "plt.xlabel('k')\n",
    "plt.ylabel('alpha')\n",
    "plt.savefig('graphs/kNN_PCA_heat',bbox_inches='tight')"
   ]
  },
  {
   "cell_type": "markdown",
   "metadata": {},
   "source": [
    "kNN\n",
    "- kNN fit/predict time: 460.510\n",
    "\n",
    "kNN + PCA\n",
    "- PCA fit/transform time: 4.740s\n",
    "- kNN fit/predict time: 21.232s\n",
    "- Total time: 25.972s"
   ]
  },
  {
   "cell_type": "code",
   "execution_count": null,
   "metadata": {},
   "outputs": [],
   "source": [
    "from sklearn.metrics import confusion_matrix\n",
    "from sklearn.metrics import accuracy_score\n",
    "import seaborn as sns\n",
    "df = pd.read_csv(\"res/kNN_k6.csv\")\n",
    "print(\"kNN k=6 accuracy: %.3f\" % accuracy_score(df['true_labels'], df['pred_labels']))\n",
    "df = pd.read_csv(\"res/kNN_PCA_k6_alpha43.csv\")\n",
    "true_labels = df['true_labels']\n",
    "pred_labels = df['pred_labels']\n",
    "cf_matrix = confusion_matrix(true_labels, pred_labels, normalize='true')\n",
    "print(\"kNN+PCA k=6 alpha=43 accuracy: %.3f\" % accuracy_score(true_labels, pred_labels))\n",
    "# Plot\n",
    "ax = sns.heatmap(cf_matrix, annot=True, fmt='.1f', square=True)\n",
    "ax.set_xticks(ax.get_xticks(), labels=label_descriptions)\n",
    "ax.set_yticks(ax.get_yticks(), labels=label_descriptions)\n",
    "# ax.grid(which=\"minor\", color=\"w\", linestyle='-', linewidth=3)\n",
    "# Rotate the tick labels and set their alignment.\n",
    "plt.setp(ax.get_xticklabels(), rotation=45, ha=\"right\",rotation_mode=\"anchor\");\n",
    "plt.setp(ax.get_yticklabels(), rotation=0, ha=\"right\",rotation_mode=\"anchor\");\n",
    "plt.savefig('graphs/kNN_PCA_confusion',bbox_inches='tight')"
   ]
  }
 ],
 "metadata": {
  "kernelspec": {
   "display_name": "Python 3.9.2 ('knn-classifier')",
   "language": "python",
   "name": "python3"
  },
  "language_info": {
   "codemirror_mode": {
    "name": "ipython",
    "version": 3
   },
   "file_extension": ".py",
   "mimetype": "text/x-python",
   "name": "python",
   "nbconvert_exporter": "python",
   "pygments_lexer": "ipython3",
   "version": "3.9.2"
  },
  "orig_nbformat": 4,
  "vscode": {
   "interpreter": {
    "hash": "f216903615eb8d87c55bd710f78c97e5d3ece4431102e2f634bf3faeb40be796"
   }
  }
 },
 "nbformat": 4,
 "nbformat_minor": 2
}
