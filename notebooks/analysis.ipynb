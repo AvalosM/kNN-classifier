{
 "cells": [
  {
   "cell_type": "markdown",
   "metadata": {},
   "source": [
    "#### Configure project"
   ]
  },
  {
   "cell_type": "code",
   "execution_count": null,
   "metadata": {},
   "outputs": [],
   "source": [
    "# !cd .. && mkdir build\n",
    "# !cd ../build/ && rm -rf *\n",
    "# !rm -f *.so\n",
    "# !cd ../build && cmake -DCMAKE_BUILD_TYPE=Release .."
   ]
  },
  {
   "cell_type": "markdown",
   "metadata": {},
   "source": [
    "#### Compile and install"
   ]
  },
  {
   "cell_type": "code",
   "execution_count": null,
   "metadata": {},
   "outputs": [],
   "source": [
    "# !cd ../build && make install"
   ]
  },
  {
   "cell_type": "markdown",
   "metadata": {},
   "source": [
    "#### Imports"
   ]
  },
  {
   "cell_type": "code",
   "execution_count": null,
   "metadata": {},
   "outputs": [],
   "source": [
    "import kNN\n",
    "import pandas as pd\n",
    "import numpy as np\n",
    "from tqdm.notebook import trange,tqdm\n",
    "import timeit\n",
    "np.random.seed(1998)"
   ]
  },
  {
   "cell_type": "code",
   "execution_count": null,
   "metadata": {},
   "outputs": [],
   "source": [
    "import matplotlib.pyplot as plt\n",
    "plt.style.use('seaborn-whitegrid')\n",
    "plt.rcParams[\"figure.figsize\"] = (10,5)"
   ]
  },
  {
   "cell_type": "markdown",
   "metadata": {},
   "source": [
    "#### Utils"
   ]
  },
  {
   "cell_type": "code",
   "execution_count": null,
   "metadata": {},
   "outputs": [],
   "source": [
    "from sklearn.model_selection import KFold\n",
    "from sklearn.metrics import accuracy_score\n",
    "from sklearn.metrics import recall_score\n",
    "from sklearn.metrics import precision_score\n",
    "from sklearn.metrics import f1_score\n",
    "\n",
    "labels_ = [0,1,2,3,4,5,6,7,8,9]\n",
    "label_count_ = 10\n",
    "\n",
    "def data_labels(dataset):\n",
    "    return (dataset[dataset.columns[1:]].values, dataset[\"label\"].values.reshape(-1,1))\n",
    "\n",
    "def save_df(df, name):\n",
    "    df.to_csv(\"res/{}.csv\".format(name), index=False, header=True)\n",
    "\n",
    "# Returns k splits of dataset (indexes)\n",
    "def Kfold_gen_splits(dataset, K):\n",
    "    return KFold(n_splits=K, shuffle=True, random_state=None).split(dataset)\n",
    "\n",
    "# Returns ((train_data, train_labels),(val_data, val_labels)) pair\n",
    "def Kfold_get_split(dataset, split):\n",
    "    train, test = split\n",
    "    return (data_labels(dataset.iloc[train]), data_labels(dataset.iloc[test]))\n",
    "\n",
    "def metrics(true_labels, pred_labels):\n",
    "    accuracy = accuracy_score(y_true=true_labels, y_pred=pred_labels)\n",
    "    precision = precision_score(y_true=true_labels, y_pred=pred_labels, labels=labels_, average='weighted', zero_division=0)\n",
    "    recall = recall_score(y_true=true_labels, y_pred=pred_labels, labels=labels_, average='weighted', zero_division=0)\n",
    "    f1 = f1_score(y_true=true_labels, y_pred=pred_labels, labels=labels_, average='weighted', zero_division=0)\n",
    "    return [accuracy, precision, recall, f1]\n",
    "\n",
    "def kNN_Kfold(dataset, K, ks, results, pbar_splits=False, pbar_ks=False):\n",
    "    splits = Kfold_gen_splits(dataset, K)\n",
    "    clf = kNN.KNNClassifier(0, label_count_)\n",
    "    dataset_size = dataset.shape[0]\n",
    "    ks_pbar = tqdm(total=len(ks), disable=not(pbar_ks))\n",
    "    for split in tqdm(list(splits), disable=not(pbar_splits)):\n",
    "        train_folds, test_fold = Kfold_get_split(dataset, split)\n",
    "        clf.fit(train_folds[0], train_folds[1])\n",
    "        for k in ks:\n",
    "            clf.setneighbors(k)\n",
    "            pred_labels = clf.predict(test_fold[0])\n",
    "            results.loc[len(results)] = [K, k, dataset_size] + metrics(test_fold[1], pred_labels)\n",
    "            ks_pbar.update()\n",
    "        ks_pbar.refresh()\n",
    "        ks_pbar.reset()\n",
    "    return results\n",
    "\n",
    "def kNN_PCA_Kfold(dataset, K, ks, alphas, results, pbar_splits=False, pbar_ks=False, pbar_alphas=False):\n",
    "    splits = Kfold_gen_splits(dataset, K)\n",
    "    clf = kNN.KNNClassifier(0, label_count_)\n",
    "    dataset_size = dataset.shape[0]\n",
    "    ks_pbar = tqdm(total=len(ks), disable=not(pbar_ks))\n",
    "    ks_pbar.set_description(\"k loop\")\n",
    "    alphas_pbar = tqdm(total=len(alphas), disable=not(pbar_alphas))\n",
    "    alphas_pbar.set_description(\"alpha loop\")\n",
    "    for split in tqdm(list(splits), disable=not(pbar_splits)):\n",
    "        train_folds, test_fold = Kfold_get_split(dataset, split)\n",
    "        pca = kNN.PCA(train_folds[0].shape[1])\n",
    "        pca.fit(train_folds[0])\n",
    "        for alpha in alphas:\n",
    "            pca.setalpha(alpha)\n",
    "            train_folds_t = pca.transform(train_folds[0])\n",
    "            clf.fit(train_folds_t, train_folds[1])\n",
    "            for k in ks:\n",
    "                clf.setneighbors(k)\n",
    "                pred_labels = clf.predict(test_fold[0])\n",
    "                results.loc[len(results)] = [K, k, alpha, dataset_size] + metrics(test_fold[1], pred_labels)\n",
    "                ks_pbar.update()\n",
    "            alphas_pbar.update()\n",
    "            ks_pbar.refresh()\n",
    "            ks_pbar.reset()\n",
    "        alphas_pbar.refresh()\n",
    "        alphas_pbar.reset()"
   ]
  },
  {
   "cell_type": "markdown",
   "metadata": {},
   "source": [
    "#### Load dataset"
   ]
  },
  {
   "cell_type": "code",
   "execution_count": null,
   "metadata": {},
   "outputs": [],
   "source": [
    "df_train = pd.read_csv(\"../data/fashion-mnist_train.csv\")\n",
    "df_test = pd.read_csv(\"../data/fashion-mnist_test.csv\")\n",
    "label_description = {0:\"T-shirt/top\", 1:\"Trouser\", 2:\"Pullover\", 3:\"Dress\", 4:\"Coat\", 5:\"Sandal\", 6:\"Shirt\", 7:\"Sneaker\", 8:\"Bag\", 9:\"Ankle boot\"}"
   ]
  },
  {
   "cell_type": "code",
   "execution_count": null,
   "metadata": {},
   "outputs": [],
   "source": [
    "# Check label distribution\n",
    "print(df_train[\"label\"].value_counts(normalize=True))\n",
    "\n",
    "# Visualize\n",
    "examples = df_train.groupby(\"label\").sample(1)\n",
    "fig = plt.figure()\n",
    "for i in range(0,10):\n",
    "    fig.add_subplot(2, 5, i+1)\n",
    "    example = examples.iloc[i].to_numpy()\n",
    "    plt.imshow(example[1:].reshape(28,28))\n",
    "    plt.axis('off')\n",
    "    plt.title(label_description[example[0]])"
   ]
  },
  {
   "cell_type": "code",
   "execution_count": null,
   "metadata": {},
   "outputs": [],
   "source": [
    "# Reduced dataset to test\n",
    "df_train_small = df_train.groupby(\"label\").sample(300)"
   ]
  },
  {
   "cell_type": "markdown",
   "metadata": {},
   "source": [
    "## Experimentation"
   ]
  },
  {
   "cell_type": "code",
   "execution_count": null,
   "metadata": {},
   "outputs": [],
   "source": [
    "columns = [\"K\", \"k\", \"size\", \"accuracy\", \"precision\", \"recall\", \"f1\"]"
   ]
  },
  {
   "cell_type": "markdown",
   "metadata": {},
   "source": [
    "### Cross validation"
   ]
  },
  {
   "cell_type": "markdown",
   "metadata": {},
   "source": [
    "#### Leave-One-Out CV"
   ]
  },
  {
   "cell_type": "code",
   "execution_count": null,
   "metadata": {},
   "outputs": [],
   "source": [
    "# K = df_train_small.shape[0]\n",
    "# k = 1\n",
    "# results = pd.DataFrame(columns=columns)\n",
    "# kNN_Kfold(df_train_small, K, [k], results, True)\n",
    "# save_df(results, 'LOOCV')"
   ]
  },
  {
   "cell_type": "markdown",
   "metadata": {},
   "source": [
    "#### KFold CV"
   ]
  },
  {
   "cell_type": "code",
   "execution_count": null,
   "metadata": {},
   "outputs": [],
   "source": [
    "# Ks = np.arange(2, 30+2, 1)\n",
    "# k = 1\n",
    "# results = pd.DataFrame(columns=columns)\n",
    "# for K in tqdm(Ks, position=0, leave=True):\n",
    "#     kNN_Kfold(df_train_small, K, [k], results)\n",
    "# save_df(results, \"KFold_K\")"
   ]
  },
  {
   "cell_type": "code",
   "execution_count": null,
   "metadata": {},
   "outputs": [],
   "source": [
    "df = pd.read_csv('res/KFold_K.csv').groupby('K')\n",
    "means = df['accuracy'].mean().to_numpy()\n",
    "mins = means - df['accuracy'].min().to_numpy()\n",
    "maxs = df['accuracy'].max().to_numpy() - means\n",
    "Ks = list(df['K'].unique())\n",
    "ideal = pd.read_csv('res/LOOCV.csv')['accuracy'].mean()\n",
    "plt.errorbar(Ks, means, yerr=[mins, maxs], fmt='o')\n",
    "plt.axhline(y=ideal, color='r', label='LOOCV estimation')\n",
    "plt.legend()\n",
    "plt.xlabel('K-Folds')\n",
    "plt.ylabel('Accuracy')"
   ]
  },
  {
   "cell_type": "markdown",
   "metadata": {},
   "source": [
    "K=10 seems to be a reasonable value"
   ]
  },
  {
   "cell_type": "code",
   "execution_count": null,
   "metadata": {},
   "outputs": [],
   "source": [
    "K_ = 10"
   ]
  },
  {
   "cell_type": "markdown",
   "metadata": {},
   "source": [
    "### kNN analysis"
   ]
  },
  {
   "cell_type": "markdown",
   "metadata": {},
   "source": [
    "#### Accuracy"
   ]
  },
  {
   "cell_type": "markdown",
   "metadata": {},
   "source": [
    "**Dataset size variable**\n",
    "1. Fixed k (1)\n",
    "2. Variable k proportional to dataset size"
   ]
  },
  {
   "cell_type": "code",
   "execution_count": null,
   "metadata": {},
   "outputs": [],
   "source": [
    "sizes = np.arange(10, df_train_small.shape[0]+1, 10)\n",
    "df = df_train_small.groupby(\"label\")"
   ]
  },
  {
   "cell_type": "code",
   "execution_count": null,
   "metadata": {},
   "outputs": [],
   "source": [
    "# # 1.\n",
    "# k = 1\n",
    "# results = pd.DataFrame(columns=columns)\n",
    "# for size in tqdm(sizes):\n",
    "#     kNN_Kfold(df.sample(size//10), K_, [k], results)\n",
    "# save_df(results, \"kNN_k_fixed\")"
   ]
  },
  {
   "cell_type": "code",
   "execution_count": null,
   "metadata": {},
   "outputs": [],
   "source": [
    "# # 2\n",
    "# results = pd.DataFrame(columns=columns)\n",
    "# for size in tqdm(sizes):\n",
    "#     k = size // 10\n",
    "#     kNN_Kfold(df.sample(size//10), K_, [k], results)\n",
    "# save_df(results, \"kNN_k_proportional\")"
   ]
  },
  {
   "cell_type": "code",
   "execution_count": null,
   "metadata": {},
   "outputs": [],
   "source": [
    "df = pd.read_csv(\"res/kNN_k_fixed.csv\").groupby('size')\n",
    "accuracies = df['accuracy'].mean().to_numpy()\n",
    "sizes = df['size'].unique()\n",
    "plt.scatter(x=sizes ,y=accuracies, label='accuracy')\n",
    "plt.title(\"Accuracy for kNN with k = 1\")\n",
    "plt.xlabel(\"Training dataset size\")\n",
    "plt.ylabel(\"Accuracy\")"
   ]
  },
  {
   "cell_type": "code",
   "execution_count": null,
   "metadata": {},
   "outputs": [],
   "source": [
    "df = pd.read_csv(\"res/kNN_k_proportional.csv\").groupby('size')\n",
    "accuracies = df['accuracy'].mean().to_numpy()\n",
    "sizes = df['size'].unique()\n",
    "ks = df['k'].unique()\n",
    "g = plt.scatter(x=sizes, y=accuracies, c=ks, cmap='inferno')\n",
    "cbar = plt.colorbar(g)\n",
    "cbar.set_label('k', rotation=0)\n",
    "plt.title(\"Accuracy for kNN with k proportional to size\")\n",
    "plt.xlabel(\"Training dataset size\")\n",
    "plt.ylabel(\"Accuracy\")"
   ]
  },
  {
   "cell_type": "code",
   "execution_count": null,
   "metadata": {},
   "outputs": [],
   "source": [
    "df = pd.read_csv(\"res/kNN_k_fixed.csv\").groupby('size')\n",
    "accuracies = df['accuracy'].mean().to_numpy()\n",
    "sizes = df['size'].unique()\n",
    "plt.scatter(x=sizes ,y=accuracies, label=\"k=1\")\n",
    "df = pd.read_csv(\"res/kNN_k_proportional.csv\").groupby('size')\n",
    "accuracies = df['accuracy'].mean().to_numpy()\n",
    "sizes = df['size'].unique()\n",
    "ks = df['k'].unique()\n",
    "plt.scatter(x=sizes, y=accuracies, label=\"k=Dataset size * 0.1\")\n",
    "plt.title(\"Accuracy for kNN\")\n",
    "plt.xlabel(\"Training dataset size\")\n",
    "plt.ylabel(\"Accuracy\")\n",
    "plt.legend()"
   ]
  },
  {
   "cell_type": "markdown",
   "metadata": {},
   "source": [
    "**Fixed dataset size**\n",
    "1. k variable (linear)\n",
    "2. k variable (log)"
   ]
  },
  {
   "cell_type": "code",
   "execution_count": null,
   "metadata": {},
   "outputs": [],
   "source": [
    "# # 1\n",
    "# ks = np.arange(1,200,1)\n",
    "# results = pd.DataFrame(columns=columns)\n",
    "# kNN_Kfold(df_train_small, K_, ks, results, True, True)\n",
    "# save_df(results, \"kNN_k_linspace\")"
   ]
  },
  {
   "cell_type": "code",
   "execution_count": null,
   "metadata": {},
   "outputs": [],
   "source": [
    "# # 2\n",
    "# ks = np.unique(np.geomspace(1, df_train_small.shape[0] - df_train_small.shape[0]//K_).astype(int))\n",
    "# results = pd.DataFrame(columns=columns)\n",
    "# kNN_Kfold(df_train_small, K_, ks, results, True, True)\n",
    "# save_df(results, \"kNN_k_logspace\")"
   ]
  },
  {
   "cell_type": "code",
   "execution_count": null,
   "metadata": {},
   "outputs": [],
   "source": [
    "df = pd.read_csv(\"res/kNN_k_linspace.csv\").groupby('k')\n",
    "accuracies = df['accuracy'].mean().to_numpy()\n",
    "ks = df['k'].unique()\n",
    "maxk = ks[accuracies.argmax()+1]\n",
    "plt.plot(ks, accuracies)\n",
    "plt.axvline(maxk, color='r', ls='--', label='k='+str(int(maxk[0])))\n",
    "plt.title(\"Accuracy for kNN with different values for k\")\n",
    "plt.xlabel(\"k\")\n",
    "plt.ylabel(\"Accuracy\")\n",
    "plt.legend()"
   ]
  },
  {
   "cell_type": "code",
   "execution_count": null,
   "metadata": {},
   "outputs": [],
   "source": [
    "df = pd.read_csv(\"res/kNN_k_logspace.csv\").groupby('k')\n",
    "accuracies = df['accuracy'].mean().to_numpy()\n",
    "ks = df['k'].unique()\n",
    "maxk = ks[accuracies.argmax()+1]\n",
    "plt.plot(ks, accuracies)\n",
    "plt.xscale('log')\n",
    "plt.title(\"Accuracy for kNN with different values for k\")\n",
    "plt.xlabel(\"k\")\n",
    "plt.ylabel(\"Accuracy\")"
   ]
  },
  {
   "cell_type": "markdown",
   "metadata": {},
   "source": [
    "#### Performance"
   ]
  },
  {
   "cell_type": "markdown",
   "metadata": {},
   "source": [
    "k proportional to training dataset size"
   ]
  },
  {
   "cell_type": "code",
   "execution_count": null,
   "metadata": {},
   "outputs": [],
   "source": [
    "perf_data, perf_labels = data_labels(df_train_small)"
   ]
  },
  {
   "cell_type": "code",
   "execution_count": null,
   "metadata": {},
   "outputs": [],
   "source": [
    "# clf = kNN.KNNClassifier(1, label_count_)\n",
    "# sizes = np.arange(1, 1001, 1)\n",
    "# times = []\n",
    "# results = pd.DataFrame(columns=['size', 'time', 'k'])\n",
    "# for size in tqdm(sizes):\n",
    "#     clf.fit(perf_data[0:size], perf_labels[0:size])\n",
    "#     clf.setneighbors(size)\n",
    "#     results.loc[len(results)] = [size, (timeit.timeit(lambda: clf.predict(perf_data[0]), number = 20)/20),size]\n",
    "# save_df(results, \"kNN_perf_k_proportional\")"
   ]
  },
  {
   "cell_type": "code",
   "execution_count": null,
   "metadata": {},
   "outputs": [],
   "source": [
    "df = pd.read_csv(\"res/kNN_perf_k_proportional.csv\")\n",
    "plt.plot(df['size'], df['time'], label='k = Dataset size')\n",
    "plt.xlabel(\"Train dataset size\")\n",
    "plt.ylabel(\"Time(s)\")\n",
    "plt.legend()"
   ]
  },
  {
   "cell_type": "markdown",
   "metadata": {},
   "source": [
    "Fixed k, training dataset size variable"
   ]
  },
  {
   "cell_type": "code",
   "execution_count": null,
   "metadata": {},
   "outputs": [],
   "source": [
    "# clf = kNN.KNNClassifier(1, 10)\n",
    "# sizes = np.arange(1, 1001, 1)\n",
    "# times = []\n",
    "# results = pd.DataFrame(columns=['size', 'time', 'k'])\n",
    "# for size in tqdm(sizes):\n",
    "#     clf.fit(perf_data[0:size], perf_labels[0:size])\n",
    "#     results.loc[len(results)] = [size, (timeit.timeit(lambda: clf.predict(perf_data[0]), number = 100)/100), 1]\n",
    "# save_df(results, 'kNN_perf_k_fixed')"
   ]
  },
  {
   "cell_type": "code",
   "execution_count": null,
   "metadata": {},
   "outputs": [],
   "source": [
    "df = pd.read_csv(\"res/kNN_perf_k_fixed.csv\")\n",
    "plt.plot(df['size'], df['time'], label='k = 1')\n",
    "plt.xlabel(\"Train dataset size\")\n",
    "plt.ylabel(\"Time(s)\")\n",
    "plt.legend()"
   ]
  },
  {
   "cell_type": "code",
   "execution_count": null,
   "metadata": {},
   "outputs": [],
   "source": [
    "df_kfixed = pd.read_csv(\"res/kNN_perf_k_fixed.csv\")\n",
    "df_kprop = pd.read_csv(\"res/kNN_perf_k_proportional.csv\")\n",
    "plt.plot(df_kfixed['size'], df_kfixed['time'], label='k = 1')\n",
    "plt.plot(df_kprop['size'], df_kprop['time'], label='k = Dataset size')\n",
    "plt.xlabel(\"Train dataset size\")\n",
    "plt.ylabel(\"Time(s)\")\n",
    "plt.legend()"
   ]
  },
  {
   "cell_type": "markdown",
   "metadata": {},
   "source": [
    "### PCA analysis"
   ]
  },
  {
   "cell_type": "code",
   "execution_count": null,
   "metadata": {},
   "outputs": [],
   "source": [
    "# Fit PCA\n",
    "train_data, train_labels = data_labels(df_train_small)\n",
    "pca = kNN.PCA(train_data.shape[1])\n",
    "pca.fit(train_data)"
   ]
  },
  {
   "cell_type": "markdown",
   "metadata": {},
   "source": [
    "#### Principal component number"
   ]
  },
  {
   "cell_type": "markdown",
   "metadata": {},
   "source": [
    "##### Scree plot"
   ]
  },
  {
   "cell_type": "code",
   "execution_count": null,
   "metadata": {},
   "outputs": [],
   "source": [
    "values = pca.pc_values()\n",
    "plt.plot(values[0:100])\n",
    "plt.axhline(y=values[0], color='orange', linestyle='--', label='Component 1')\n",
    "plt.axhline(y=values[76], color='r', linestyle='--', label='Component 76')\n",
    "plt.xlabel(\"Components\")\n",
    "plt.ylabel(\"Eigenvalue\")\n",
    "plt.legend()"
   ]
  },
  {
   "cell_type": "markdown",
   "metadata": {},
   "source": [
    "##### Cumulative explained variance"
   ]
  },
  {
   "cell_type": "code",
   "execution_count": null,
   "metadata": {},
   "outputs": [],
   "source": [
    "ratios = pca.pc_values()/sum(values)\n",
    "var_accum = ratios.cumsum()\n",
    "plt.plot(var_accum, label='Variance explained')\n",
    "plt.axhline(y=var_accum[0], color='orange', linestyle='--', label='1 Component')\n",
    "plt.axhline(y=var_accum[76], color='r', linestyle='--', label='76 Components')\n",
    "plt.legend()\n",
    "plt.xlabel(\"Components\")\n",
    "plt.ylabel(\"Variance explained\")"
   ]
  },
  {
   "cell_type": "code",
   "execution_count": null,
   "metadata": {},
   "outputs": [],
   "source": [
    "values = pca.pc_values()\n",
    "ratios = values/sum(values)\n",
    "var_accum = ratios.cumsum()\n",
    "plt.bar(range(0,30,1), ratios[0:30], alpha=0.4, color='red', label='Component explained variance')\n",
    "plt.step(range(0,30,1), var_accum[0:30], label='Cumulative explained variance')\n",
    "plt.title(\"Cumulative and individual explained variance\")\n",
    "plt.legend()"
   ]
  },
  {
   "cell_type": "markdown",
   "metadata": {},
   "source": [
    "##### kNN + PCA"
   ]
  },
  {
   "cell_type": "markdown",
   "metadata": {},
   "source": [
    "Now lets see how alpha affects kNN accuracy"
   ]
  },
  {
   "cell_type": "code",
   "execution_count": null,
   "metadata": {},
   "outputs": [],
   "source": [
    "columns = [\"K\", \"k\", \"alpha\", \"size\", \"accuracy\", \"precision\", \"recall\", \"f1\"]"
   ]
  },
  {
   "cell_type": "code",
   "execution_count": null,
   "metadata": {},
   "outputs": [],
   "source": [
    "ks = np.arange(1, 15+1, 1)\n",
    "alphas = np.arange(1, 76+1, 1)\n",
    "results = pd.DataFrame(columns=columns)\n",
    "kNN_PCA_Kfold(df_train_small, K_, ks, alphas, results, True, True, True)\n",
    "save_df(results, 'kNN_PCA_k_alpha_variable')"
   ]
  },
  {
   "cell_type": "markdown",
   "metadata": {},
   "source": [
    "### PCA & t-sne"
   ]
  },
  {
   "cell_type": "code",
   "execution_count": null,
   "metadata": {},
   "outputs": [],
   "source": [
    "pca.setalpha(2)\n",
    "train_vectors_t = pca.transform(train_vectors)\n",
    "df = pd.DataFrame(train_vectors_t, columns=[\"x\",\"y\"])\n",
    "df[\"label\"] = train_labels\n",
    "g = sns.scatterplot(data=df, x='x', y='y', hue='label', palette=sns.color_palette(\"hls\",10))\n",
    "plt.xlabel('Component 1')\n",
    "plt.ylabel('Component 2')"
   ]
  },
  {
   "cell_type": "code",
   "execution_count": null,
   "metadata": {},
   "outputs": [],
   "source": [
    "from sklearn.manifold import TSNE\n",
    "X_embedded = TSNE(n_components=2, perplexity=50, early_exaggeration=20, learning_rate=500, init='random').fit_transform(train_vectors)\n",
    "df = pd.DataFrame(X_embedded, columns=[\"x\", \"y\"])\n",
    "df[\"label\"] = train_labels\n",
    "g = sns.scatterplot(data=df, x='x', y='y', hue='label', palette=sns.color_palette(\"hls\",10))"
   ]
  },
  {
   "cell_type": "code",
   "execution_count": null,
   "metadata": {},
   "outputs": [],
   "source": [
    "pca.setalpha(25)\n",
    "train_vectors_t = pca.transform(train_vectors)\n",
    "X_embedded = TSNE(n_components=2, perplexity=50, learning_rate='auto', init='random').fit_transform(train_vectors_t)\n",
    "df = pd.DataFrame(X_embedded, columns=[\"x\", \"y\"])\n",
    "df[\"label\"] = train_labels\n",
    "g = sns.scatterplot(data=df, x='x', y='y', hue='label', palette=sns.color_palette(\"hls\",10))"
   ]
  }
 ],
 "metadata": {
  "kernelspec": {
   "display_name": "Python 3.9.2 ('knn-classifier')",
   "language": "python",
   "name": "python3"
  },
  "language_info": {
   "codemirror_mode": {
    "name": "ipython",
    "version": 3
   },
   "file_extension": ".py",
   "mimetype": "text/x-python",
   "name": "python",
   "nbconvert_exporter": "python",
   "pygments_lexer": "ipython3",
   "version": "3.9.2"
  },
  "orig_nbformat": 4,
  "vscode": {
   "interpreter": {
    "hash": "f216903615eb8d87c55bd710f78c97e5d3ece4431102e2f634bf3faeb40be796"
   }
  }
 },
 "nbformat": 4,
 "nbformat_minor": 2
}
