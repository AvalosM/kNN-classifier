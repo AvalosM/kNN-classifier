{
 "cells": [
  {
   "cell_type": "markdown",
   "metadata": {},
   "source": [
    "#### Configure project"
   ]
  },
  {
   "cell_type": "code",
   "execution_count": null,
   "metadata": {},
   "outputs": [],
   "source": [
    "!cd .. && mkdir build\n",
    "!cd ../build/ && rm -rf *\n",
    "!rm -f *.so\n",
    "!cd ../build && cmake -DCMAKE_BUILD_TYPE=Release .."
   ]
  },
  {
   "cell_type": "markdown",
   "metadata": {},
   "source": [
    "#### Compile and install"
   ]
  },
  {
   "cell_type": "code",
   "execution_count": null,
   "metadata": {},
   "outputs": [],
   "source": [
    "!cd ../build && make install"
   ]
  },
  {
   "cell_type": "markdown",
   "metadata": {},
   "source": [
    "#### Imports"
   ]
  },
  {
   "cell_type": "code",
   "execution_count": null,
   "metadata": {},
   "outputs": [],
   "source": [
    "import kNN\n",
    "import pandas as pd\n",
    "import seaborn as sns\n",
    "import matplotlib.pyplot as plt\n",
    "import numpy as np"
   ]
  },
  {
   "cell_type": "markdown",
   "metadata": {},
   "source": [
    "#### Graph style"
   ]
  },
  {
   "cell_type": "code",
   "execution_count": null,
   "metadata": {},
   "outputs": [],
   "source": [
    "sns.set(style='ticks')\n",
    "sns.set_palette(\"Set2\")\n",
    "sns.set(rc={'figure.figsize':(10,5)})\n",
    "plt.style.use('fivethirtyeight')\n",
    "plt.tight_layout()"
   ]
  },
  {
   "cell_type": "markdown",
   "metadata": {},
   "source": [
    "#### Load dataset"
   ]
  },
  {
   "cell_type": "code",
   "execution_count": null,
   "metadata": {},
   "outputs": [],
   "source": [
    "df_train = pd.read_csv(\"../data/fashion-mnist_train.csv\")\n",
    "# df_train = df_train.sample(5000)\n",
    "df_train_data = df_train[df_train.columns[1:]].values\n",
    "df_train_labels = df_train[\"label\"].values.reshape(-1,1)"
   ]
  },
  {
   "cell_type": "markdown",
   "metadata": {},
   "source": [
    "### PCA analysis"
   ]
  },
  {
   "cell_type": "markdown",
   "metadata": {},
   "source": [
    "#### Principal component number"
   ]
  },
  {
   "cell_type": "code",
   "execution_count": null,
   "metadata": {},
   "outputs": [],
   "source": [
    "# Fit PCA\n",
    "pca = kNN.PCA(df_train_data.shape[1])\n",
    "pca.fit(df_train_data)"
   ]
  },
  {
   "cell_type": "markdown",
   "metadata": {},
   "source": [
    "##### Scree plot"
   ]
  },
  {
   "cell_type": "code",
   "execution_count": null,
   "metadata": {},
   "outputs": [],
   "source": [
    "values = pca.pc_values()\n",
    "g = sns.lineplot(data=values, legend='full')\n",
    "plt.xlabel(\"Components\")\n",
    "plt.ylabel(\"Eigenvalue\")\n",
    "plt.show()\n",
    "g = sns.lineplot(data=values[0:50], legend='full')\n",
    "plt.axhline(y=values[5], color='orange', linestyle='--')\n",
    "plt.axhline(y=values[25], color='r', linestyle='--')\n",
    "plt.xlabel(\"Components\")\n",
    "plt.ylabel(\"Eigenvalue\")\n",
    "plt.show()"
   ]
  },
  {
   "cell_type": "markdown",
   "metadata": {},
   "source": [
    "##### Explained variance accumulated"
   ]
  },
  {
   "cell_type": "code",
   "execution_count": null,
   "metadata": {},
   "outputs": [],
   "source": [
    "values = pca.pc_values()\n",
    "ratios = pca.pc_values()/sum(values)\n",
    "var_accum = ratios.cumsum()\n",
    "g = sns.lineplot(data=var_accum)\n",
    "plt.axhline(y=var_accum[5], color='orange', linestyle='--')\n",
    "plt.axhline(y=var_accum[25], color='r', linestyle='--')\n",
    "plt.xlabel(\"Components\")\n",
    "plt.ylabel(\"Variance explained\")"
   ]
  }
 ],
 "metadata": {
  "interpreter": {
   "hash": "f216903615eb8d87c55bd710f78c97e5d3ece4431102e2f634bf3faeb40be796"
  },
  "kernelspec": {
   "display_name": "Python 3.9.2 ('knn-classifier')",
   "language": "python",
   "name": "python3"
  },
  "language_info": {
   "codemirror_mode": {
    "name": "ipython",
    "version": 3
   },
   "file_extension": ".py",
   "mimetype": "text/x-python",
   "name": "python",
   "nbconvert_exporter": "python",
   "pygments_lexer": "ipython3",
   "version": "3.9.2"
  },
  "orig_nbformat": 4
 },
 "nbformat": 4,
 "nbformat_minor": 2
}
