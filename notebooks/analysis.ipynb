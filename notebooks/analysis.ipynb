{
 "cells": [
  {
   "cell_type": "markdown",
   "metadata": {},
   "source": [
    "#### Configure project"
   ]
  },
  {
   "cell_type": "code",
   "execution_count": null,
   "metadata": {},
   "outputs": [],
   "source": [
    "# !cd .. && mkdir build\n",
    "# !cd ../build/ && rm -rf *\n",
    "# !rm -f *.so\n",
    "!cd ../build && cmake -DCMAKE_BUILD_TYPE=Release .."
   ]
  },
  {
   "cell_type": "markdown",
   "metadata": {},
   "source": [
    "#### Compile and install"
   ]
  },
  {
   "cell_type": "code",
   "execution_count": null,
   "metadata": {},
   "outputs": [],
   "source": [
    "!cd ../build && make install"
   ]
  },
  {
   "cell_type": "markdown",
   "metadata": {},
   "source": [
    "#### Imports"
   ]
  },
  {
   "cell_type": "code",
   "execution_count": null,
   "metadata": {},
   "outputs": [],
   "source": [
    "import kNN\n",
    "from utils import *\n",
    "import pandas as pd\n",
    "import seaborn as sns\n",
    "import matplotlib.pyplot as plt\n",
    "import numpy as np\n",
    "from tqdm import tqdm\n",
    "import timeit\n",
    "\n",
    "np.random.seed(1998)"
   ]
  },
  {
   "cell_type": "markdown",
   "metadata": {},
   "source": [
    "#### Graph style"
   ]
  },
  {
   "cell_type": "code",
   "execution_count": null,
   "metadata": {},
   "outputs": [],
   "source": [
    "sns.set(style='ticks')\n",
    "sns.set_palette(\"Set2\")\n",
    "sns.set(rc={'figure.figsize':(10,5)})\n",
    "plt.style.use('fivethirtyeight')\n",
    "plt.tight_layout()"
   ]
  },
  {
   "cell_type": "markdown",
   "metadata": {},
   "source": [
    "#### Load dataset"
   ]
  },
  {
   "cell_type": "code",
   "execution_count": null,
   "metadata": {},
   "outputs": [],
   "source": [
    "df_train = pd.read_csv(\"../data/fashion-mnist_train.csv\")\n",
    "# df_test = pd.read_csv(\"../data/fashion-mnist_test.csv\")\n",
    "label_description = {0:\"T-shirt/top\", 1:\"Trouser\", 2:\"Pullover\", 3:\"Dress\", 4:\"Coat\", 5:\"Sandal\", 6:\"Shirt\", 7:\"Sneaker\", 8:\"Bag\", 9:\"Ankle boot\"}"
   ]
  },
  {
   "cell_type": "code",
   "execution_count": null,
   "metadata": {},
   "outputs": [],
   "source": [
    "df_train[\"label\"].value_counts(normalize=True)"
   ]
  },
  {
   "cell_type": "code",
   "execution_count": null,
   "metadata": {},
   "outputs": [],
   "source": [
    "examples = df_train.groupby(\"label\").sample(1)\n",
    "fig = plt.figure()\n",
    "for i in range(0,10):\n",
    "    fig.add_subplot(2, 5, i+1)\n",
    "    example = examples.iloc[i].to_numpy()\n",
    "    plt.imshow(example[1:].reshape(28,28))\n",
    "    plt.axis('off')\n",
    "    plt.title(label_description[example[0]])\n"
   ]
  },
  {
   "cell_type": "markdown",
   "metadata": {},
   "source": [
    "Check label distribution"
   ]
  },
  {
   "cell_type": "code",
   "execution_count": null,
   "metadata": {},
   "outputs": [],
   "source": [
    "# Reduced dataset to test\n",
    "df_train_small = df_train.groupby(\"label\").sample(300)\n",
    "df_train_small = df_train_small.sample(frac=1)\n",
    "df_train_small[\"label\"].value_counts(normalize=True)\n",
    "# train_vectors, train_labels = data_labels(df_train_3000)\n",
    "# # val_vectors, val_labels = data_labels(df_test.groupby(\"label\").sample(50))"
   ]
  },
  {
   "cell_type": "markdown",
   "metadata": {},
   "source": [
    "### Cross validation"
   ]
  },
  {
   "cell_type": "markdown",
   "metadata": {},
   "source": [
    "#### Leave-One-Out CV"
   ]
  },
  {
   "cell_type": "code",
   "execution_count": null,
   "metadata": {},
   "outputs": [],
   "source": [
    "K = df_train_small.shape[0]\n",
    "splits = Kfold_gen(df_train_small, K)\n",
    "ks = [10]\n",
    "res = []\n",
    "for split in tqdm(splits):\n",
    "    res.append(kNN_predict(Kfold_split(df_train_small, split),ks))\n",
    "# Add values for each split (3 dimensional data, (K, k, metric_count))\n",
    "res = sum(res)\n",
    "# Now we got (k, metric_count) so we divide by K to get the mean\n",
    "res *= 1/K\n",
    "\n",
    "save_res(['Accuracy', 'Precision', 'Recall', 'F1'], res, 'LOOCV')"
   ]
  },
  {
   "cell_type": "markdown",
   "metadata": {},
   "source": [
    "#### KFold CV"
   ]
  },
  {
   "cell_type": "code",
   "execution_count": null,
   "metadata": {},
   "outputs": [],
   "source": [
    "Ks = np.arange(2,30+1,1)\n",
    "results = pd.DataFrame(columns=['K', 'Acc_min', 'Acc_max', 'Accuracy', 'Precision', 'Recall', 'F1'])\n",
    "results['K'] = Ks\n",
    "for K in tqdm(Ks):\n",
    "    splits = Kfold_gen(df_train_small, K)\n",
    "    ks = [10]\n",
    "    res = []\n",
    "    for split in splits:\n",
    "        res.append(kNN_predict(Kfold_split(df_train_small, split),ks))\n",
    "    # Get accuracy list to find max and min accuracy \n",
    "    accs = []\n",
    "    for fold in res:\n",
    "        accs.append(fold[0][0])\n",
    "    # Add values for each split (3 dimensional data, (K, k, metric_count))\n",
    "    res = sum(res)\n",
    "    # Now we got (k, metric_count) so we divide by K to get the mean\n",
    "    res *= 1/K\n",
    "    results.loc[results['K']== K,'Acc_min':] = np.concatenate(([min(accs),max(accs)], res[0]))\n",
    "\n",
    "save_res(['K', 'Acc_min', 'Acc_max', 'Accuracy', 'Precision', 'Recall', 'F1'], results, \"KFold_K\")"
   ]
  },
  {
   "cell_type": "code",
   "execution_count": null,
   "metadata": {},
   "outputs": [],
   "source": [
    "np.concatenate([[1],res[0]])"
   ]
  },
  {
   "cell_type": "markdown",
   "metadata": {},
   "source": [
    "### kNN analysis"
   ]
  },
  {
   "cell_type": "markdown",
   "metadata": {},
   "source": [
    "#### Performance"
   ]
  },
  {
   "cell_type": "markdown",
   "metadata": {},
   "source": [
    "k proportional to training dataset size"
   ]
  },
  {
   "cell_type": "code",
   "execution_count": null,
   "metadata": {},
   "outputs": [],
   "source": [
    "clf = kNN.KNNClassifier(1, 10)\n",
    "sizes = np.arange(1, 1001, 1)\n",
    "times = []\n",
    "for i in tqdm(sizes):\n",
    "    clf.fit(train_vectors[0:i], train_labels[0:i])\n",
    "    clf.setneighbors(i)\n",
    "    times.append(timeit.timeit(lambda: clf.predict(val_vectors[0]), number = 20)/20)\n",
    "save_res([\"size\",\"time\"], zip(sizes,times), \"kNN-time-kprop\")"
   ]
  },
  {
   "cell_type": "markdown",
   "metadata": {},
   "source": [
    "Fixed k, training dataset size variable"
   ]
  },
  {
   "cell_type": "code",
   "execution_count": null,
   "metadata": {},
   "outputs": [],
   "source": [
    "clf = kNN.KNNClassifier(1, 10)\n",
    "sizes = np.arange(1, 1001, 1)\n",
    "times = []\n",
    "for i in tqdm(sizes):\n",
    "    clf.fit(train_vectors[0:i], train_labels[0:i])\n",
    "    times.append(timeit.timeit(lambda: clf.predict(val_vectors[0]), number = 100)/100)\n",
    "save_res([\"size\",\"time\"], zip(sizes,times), \"kNN-time-kfixed\")"
   ]
  },
  {
   "cell_type": "code",
   "execution_count": null,
   "metadata": {},
   "outputs": [],
   "source": [
    "df_kfixed = pd.read_csv(\"res/kNN-time-kfixed.csv\")\n",
    "df_kprop = pd.read_csv(\"res/kNN-time-kprop.csv\")\n",
    "g = sns.lineplot(data=df_kfixed, x='size', y='time', label='k = 1')\n",
    "sns.lineplot(data=df_kprop, x='size', y='time', label='k = Dataset size')\n",
    "plt.xlabel(\"Train dataset size\")\n",
    "plt.ylabel(\"Time(s)\")"
   ]
  },
  {
   "cell_type": "markdown",
   "metadata": {},
   "source": [
    "#### Accuracy"
   ]
  },
  {
   "cell_type": "markdown",
   "metadata": {},
   "source": [
    "Fixed k, training dataset size variable"
   ]
  },
  {
   "cell_type": "code",
   "execution_count": null,
   "metadata": {},
   "outputs": [],
   "source": [
    "clf = kNN.KNNClassifier(10, 10)\n",
    "sizes = np.arange(10, 5001, 10)\n",
    "accs = []\n",
    "for size in tqdm(sizes):\n",
    "    data_sample,label_sample = data_labels(df_train.sample(size))\n",
    "    clf.fit(data_sample, label_sample)\n",
    "    pred_labels = clf.predict(val_vectors)\n",
    "    accs.append(accuracy_score(val_labels, pred_labels))\n",
    "save_res([\"size\",\"acc\"], zip(sizes, accs), \"kNN-acc-kfixed\")"
   ]
  },
  {
   "cell_type": "code",
   "execution_count": null,
   "metadata": {},
   "outputs": [],
   "source": [
    "df = pd.read_csv(\"res/kNN-acc-kfixed.csv\")\n",
    "g = sns.scatterplot(data=df, x='size', y='acc', label='accuracy')\n",
    "plt.xlabel(\"Training dataset size\")\n",
    "plt.ylabel(\"Score\")"
   ]
  },
  {
   "cell_type": "markdown",
   "metadata": {},
   "source": [
    "Variable k, fixed dataset size"
   ]
  },
  {
   "cell_type": "code",
   "execution_count": null,
   "metadata": {},
   "outputs": [],
   "source": [
    "clf = kNN.KNNClassifier(1, 10)\n",
    "clf.fit(train_vectors, train_labels)\n",
    "ks = np.arange(1, 201, 1)\n",
    "accs = []\n",
    "f1s = []\n",
    "for k in tqdm(ks):\n",
    "    clf.setneighbors(k)\n",
    "    accs.append(accuracy_score(val_labels, clf.predict(val_vectors)))\n",
    "save_res([\"k\",\"acc\"], zip(ks, accs), \"kNN-acc-kvariable\")"
   ]
  },
  {
   "cell_type": "code",
   "execution_count": null,
   "metadata": {},
   "outputs": [],
   "source": [
    "df = pd.read_csv(\"res/kNN-acc-kvariable.csv\")\n",
    "g = sns.lineplot(data=df, x='k', y='acc')\n",
    "plt.xlabel(\"k\")\n",
    "plt.ylabel(\"Accuracy\")\n",
    "plt.show()"
   ]
  },
  {
   "cell_type": "markdown",
   "metadata": {},
   "source": [
    "### PCA analysis"
   ]
  },
  {
   "cell_type": "code",
   "execution_count": null,
   "metadata": {},
   "outputs": [],
   "source": [
    "# Fit PCA\n",
    "pca = kNN.PCA(train_vectors.shape[1])\n",
    "pca.fit(train_vectors)"
   ]
  },
  {
   "cell_type": "markdown",
   "metadata": {},
   "source": [
    "#### Principal component number"
   ]
  },
  {
   "cell_type": "markdown",
   "metadata": {},
   "source": [
    "##### Scree plot"
   ]
  },
  {
   "cell_type": "code",
   "execution_count": null,
   "metadata": {},
   "outputs": [],
   "source": [
    "values = pca.pc_values()\n",
    "g = sns.lineplot(data=values[0:100], legend='full')\n",
    "plt.axhline(y=values[2], color='orange', linestyle='--')\n",
    "plt.axhline(y=values[50], color='r', linestyle='--')\n",
    "plt.xlabel(\"Components\")\n",
    "plt.ylabel(\"Eigenvalue\")\n",
    "plt.show()"
   ]
  },
  {
   "cell_type": "markdown",
   "metadata": {},
   "source": [
    "##### Accumulated explained variance"
   ]
  },
  {
   "cell_type": "code",
   "execution_count": null,
   "metadata": {},
   "outputs": [],
   "source": [
    "ratios = pca.pc_values()/sum(values)\n",
    "var_accum = ratios.cumsum()\n",
    "g = sns.lineplot(data=var_accum, label='Variance explained')\n",
    "plt.axhline(y=var_accum[2], color='orange', linestyle='--', label='1 Component')\n",
    "plt.axhline(y=var_accum[50], color='r', linestyle='--', label='50 Components')\n",
    "plt.legend()\n",
    "plt.xlabel(\"Components\")\n",
    "plt.ylabel(\"Variance explained\")"
   ]
  },
  {
   "cell_type": "markdown",
   "metadata": {},
   "source": [
    "##### kNN + PCA"
   ]
  },
  {
   "cell_type": "markdown",
   "metadata": {},
   "source": [
    "Now lets see how alpha affects kNN accuracy"
   ]
  },
  {
   "cell_type": "code",
   "execution_count": null,
   "metadata": {},
   "outputs": [],
   "source": [
    "ks = np.arange(5, 20, 1)\n",
    "alphas = np.arange(25, 75,1)\n",
    "accs = []\n",
    "clf = kNN.KNNClassifier(1, 10)\n",
    "for alpha in tqdm(alphas):\n",
    "    pca.setalpha(alpha)\n",
    "    train_vectors_t = pca.transform(train_vectors)\n",
    "    for k in ks:\n",
    "        clf.setneighbors(k)\n",
    "        clf.fit(train_vectors_t, train_labels)\n",
    "        pred_labels = clf.predict(val_vectors)\n",
    "        accs.append(accuracy_score(val_labels, pred_labels))\n",
    "    save_res([\"k\",\"acc\"], zip(ks, accs), \"kNN-acc-kvariable\")"
   ]
  },
  {
   "cell_type": "markdown",
   "metadata": {},
   "source": [
    "### PCA & t-sne"
   ]
  },
  {
   "cell_type": "code",
   "execution_count": null,
   "metadata": {},
   "outputs": [],
   "source": [
    "pca.setalpha(2)\n",
    "train_vectors_t = pca.transform(train_vectors)\n",
    "df = pd.DataFrame(train_vectors_t, columns=[\"x\",\"y\"])\n",
    "df[\"label\"] = train_labels\n",
    "g = sns.scatterplot(data=df, x='x', y='y', hue='label', palette=sns.color_palette(\"hls\",10))\n",
    "plt.xlabel('Component 1')\n",
    "plt.ylabel('Component 2')"
   ]
  },
  {
   "cell_type": "code",
   "execution_count": null,
   "metadata": {},
   "outputs": [],
   "source": [
    "from sklearn.manifold import TSNE\n",
    "X_embedded = TSNE(n_components=2, perplexity=50, early_exaggeration=20, learning_rate=500, init='random').fit_transform(train_vectors)\n",
    "df = pd.DataFrame(X_embedded, columns=[\"x\", \"y\"])\n",
    "df[\"label\"] = train_labels\n",
    "g = sns.scatterplot(data=df, x='x', y='y', hue='label', palette=sns.color_palette(\"hls\",10))"
   ]
  },
  {
   "cell_type": "code",
   "execution_count": null,
   "metadata": {},
   "outputs": [],
   "source": [
    "pca.setalpha(25)\n",
    "train_vectors_t = pca.transform(train_vectors)\n",
    "X_embedded = TSNE(n_components=2, perplexity=50, learning_rate='auto', init='random').fit_transform(train_vectors_t)\n",
    "df = pd.DataFrame(X_embedded, columns=[\"x\", \"y\"])\n",
    "df[\"label\"] = train_labels\n",
    "g = sns.scatterplot(data=df, x='x', y='y', hue='label', palette=sns.color_palette(\"hls\",10))"
   ]
  }
 ],
 "metadata": {
  "interpreter": {
   "hash": "f216903615eb8d87c55bd710f78c97e5d3ece4431102e2f634bf3faeb40be796"
  },
  "kernelspec": {
   "display_name": "Python 3.9.2 ('knn-classifier')",
   "language": "python",
   "name": "python3"
  },
  "language_info": {
   "codemirror_mode": {
    "name": "ipython",
    "version": 3
   },
   "file_extension": ".py",
   "mimetype": "text/x-python",
   "name": "python",
   "nbconvert_exporter": "python",
   "pygments_lexer": "ipython3",
   "version": "3.9.2"
  },
  "orig_nbformat": 4
 },
 "nbformat": 4,
 "nbformat_minor": 2
}
