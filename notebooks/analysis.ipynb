{
 "cells": [
  {
   "cell_type": "markdown",
   "metadata": {},
   "source": [
    "#### Configure project"
   ]
  },
  {
   "cell_type": "code",
   "execution_count": null,
   "metadata": {},
   "outputs": [],
   "source": [
    "!cd .. && mkdir build\n",
    "!cd ../build/ && rm -rf *\n",
    "!rm -f *.so\n",
    "!cd ../build && cmake -DCMAKE_BUILD_TYPE=Release .."
   ]
  },
  {
   "cell_type": "markdown",
   "metadata": {},
   "source": [
    "#### Compile and install"
   ]
  },
  {
   "cell_type": "code",
   "execution_count": null,
   "metadata": {},
   "outputs": [],
   "source": [
    "!cd ../build && make install"
   ]
  },
  {
   "cell_type": "markdown",
   "metadata": {},
   "source": [
    "#### Imports"
   ]
  },
  {
   "cell_type": "code",
   "execution_count": null,
   "metadata": {},
   "outputs": [],
   "source": [
    "import kNN\n",
    "import pandas as pd\n",
    "import seaborn as sns\n",
    "import matplotlib.pyplot as plt\n",
    "import numpy as np\n",
    "from tqdm.autonotebook import tqdm\n",
    "import timeit\n",
    "from sklearn.metrics import accuracy_score"
   ]
  },
  {
   "cell_type": "markdown",
   "metadata": {},
   "source": [
    "#### Graph style"
   ]
  },
  {
   "cell_type": "code",
   "execution_count": null,
   "metadata": {},
   "outputs": [],
   "source": [
    "sns.set(style='ticks')\n",
    "sns.set_palette(\"Set2\")\n",
    "sns.set(rc={'figure.figsize':(10,5)})\n",
    "plt.style.use('fivethirtyeight')\n",
    "plt.tight_layout()"
   ]
  },
  {
   "cell_type": "markdown",
   "metadata": {},
   "source": [
    "#### Util"
   ]
  },
  {
   "cell_type": "code",
   "execution_count": null,
   "metadata": {},
   "outputs": [],
   "source": [
    "def data_labels(dataset):\n",
    "    return (dataset[dataset.columns[1:]].values, dataset[\"label\"].values.reshape(-1,1))\n",
    "\n",
    "def save_res(cols, rows, name):\n",
    "    res = pd.DataFrame(rows, columns=cols)\n",
    "    res.to_csv(\"res/{}.csv\".format(name), index=False, header=True)"
   ]
  },
  {
   "cell_type": "markdown",
   "metadata": {},
   "source": [
    "#### Load dataset"
   ]
  },
  {
   "cell_type": "code",
   "execution_count": null,
   "metadata": {},
   "outputs": [],
   "source": [
    "df_train = pd.read_csv(\"../data/fashion-mnist_train.csv\")\n",
    "df_test = pd.read_csv(\"../data/fashion-mnist_test.csv\")\n",
    "df_test_data,df_test_labels = data_labels(df_test)\n",
    "df_train_data,df_train_labels = data_labels(df_train)"
   ]
  },
  {
   "cell_type": "markdown",
   "metadata": {},
   "source": [
    "### kNN analysis"
   ]
  },
  {
   "cell_type": "markdown",
   "metadata": {},
   "source": [
    "#### Training dataset size"
   ]
  },
  {
   "cell_type": "markdown",
   "metadata": {},
   "source": [
    "k proportional to training dataset size"
   ]
  },
  {
   "cell_type": "code",
   "execution_count": null,
   "metadata": {},
   "outputs": [],
   "source": [
    "test_vector = df_test_data[0]\n",
    "\n",
    "clf = kNN.KNNClassifier(1, 10)\n",
    "sizes = np.arange(1, 1001, 1)\n",
    "times = []\n",
    "for i in tqdm(sizes):\n",
    "    clf.fit(df_test_data[0:i], df_test_labels[0:i])\n",
    "    clf.setneighbors(i)\n",
    "    times.append(timeit.timeit(lambda: clf.predict(test_vector), number = 20)/20)\n",
    "save_res([\"size\",\"time\"], zip(sizes,times), \"kNN-time-kprop\")"
   ]
  },
  {
   "cell_type": "code",
   "execution_count": null,
   "metadata": {},
   "outputs": [],
   "source": [
    "df = pd.read_csv(\"res/kNN-time-kprop.csv\")\n",
    "g = sns.lineplot(data=df, x='size', y='time')\n",
    "plt.xlabel(\"k\")\n",
    "plt.ylabel(\"Time(s)\")"
   ]
  },
  {
   "cell_type": "markdown",
   "metadata": {},
   "source": [
    "Fixed k, training dataset size variable"
   ]
  },
  {
   "cell_type": "code",
   "execution_count": null,
   "metadata": {},
   "outputs": [],
   "source": [
    "test_vector = df_test_data[0]\n",
    "\n",
    "clf = kNN.KNNClassifier(1, 10)\n",
    "sizes = np.arange(1, 1001, 1)\n",
    "times = []\n",
    "for i in tqdm(sizes):\n",
    "    clf.fit(df_test_data[0:i], df_test_labels[0:i])\n",
    "    times.append(timeit.timeit(lambda: clf.predict(test_vector), number = 100)/100)\n",
    "save_res([\"size\",\"time\"], zip(sizes,times), \"kNN-time-kfixed\")"
   ]
  },
  {
   "cell_type": "code",
   "execution_count": null,
   "metadata": {},
   "outputs": [],
   "source": [
    "df = pd.read_csv(\"res/kNN-time-kfixed.csv\")\n",
    "g = sns.lineplot(data=df, x='size', y='time')\n",
    "plt.xlabel(\"k\")\n",
    "plt.ylabel(\"Time(s)\")"
   ]
  },
  {
   "cell_type": "markdown",
   "metadata": {},
   "source": [
    "#### Accuracy"
   ]
  },
  {
   "cell_type": "markdown",
   "metadata": {},
   "source": [
    "Fixed k, training dataset size variable"
   ]
  },
  {
   "cell_type": "code",
   "execution_count": null,
   "metadata": {},
   "outputs": [],
   "source": [
    "test_vectors, test_labels = data_labels(df_test.groupby(\"label\").sample(5))\n",
    "\n",
    "clf = kNN.KNNClassifier(10, 10)\n",
    "sizes = np.arange(10, 10001, 10)\n",
    "accs = []\n",
    "for size in tqdm(sizes):\n",
    "    data_sample,label_sample = data_labels(df_train.sample(size))\n",
    "    clf.fit(data_sample, label_sample)\n",
    "    accs.append(accuracy_score(test_labels, clf.predict(test_vectors)))\n",
    "save_res([\"size\",\"acc\"], zip(sizes, accs), \"kNN-acc-kfixed\")"
   ]
  },
  {
   "cell_type": "code",
   "execution_count": null,
   "metadata": {},
   "outputs": [],
   "source": [
    "df = pd.read_csv(\"res/kNN-acc-kfixed.csv\")\n",
    "g = sns.scatterplot(data=df, x='size', y='acc')\n",
    "plt.xlabel(\"size\")\n",
    "plt.ylabel(\"Accuracy\")"
   ]
  },
  {
   "cell_type": "markdown",
   "metadata": {},
   "source": [
    "Variable k, fixed dataset size"
   ]
  },
  {
   "cell_type": "code",
   "execution_count": null,
   "metadata": {},
   "outputs": [],
   "source": [
    "test_vectors, test_labels = data_labels(df_test.groupby(\"label\").sample(5))\n",
    "data_sample,label_sample = data_labels(df_train.sample(6000))\n",
    "clf = kNN.KNNClassifier(1, 10)\n",
    "ks = np.arange(1, 1001, 1)\n",
    "accs = []\n",
    "for k in tqdm(ks):\n",
    "    clf.setneighbors(k)\n",
    "    clf.fit(data_sample, label_sample)\n",
    "    accs.append(accuracy_score(test_labels, clf.predict(test_vectors)))\n",
    "save_res([\"k\",\"acc\"], zip(ks, accs), \"kNN-acc-kvariable\")"
   ]
  },
  {
   "cell_type": "code",
   "execution_count": null,
   "metadata": {},
   "outputs": [],
   "source": [
    "df = pd.read_csv(\"res/kNN-acc-kvariable.csv\")\n",
    "g = sns.lineplot(data=df, x='k', y='acc')\n",
    "plt.xlabel(\"k\")\n",
    "plt.ylabel(\"Accuracy\")\n",
    "plt.show()\n",
    "g = sns.lineplot(data=df[0:200], x='k', y='acc')\n",
    "plt.xlabel(\"k\")\n",
    "plt.ylabel(\"Accuracy\")\n",
    "plt.show()"
   ]
  },
  {
   "cell_type": "markdown",
   "metadata": {},
   "source": [
    "### PCA analysis"
   ]
  },
  {
   "cell_type": "markdown",
   "metadata": {},
   "source": [
    "#### Principal component number"
   ]
  },
  {
   "cell_type": "code",
   "execution_count": null,
   "metadata": {},
   "outputs": [],
   "source": [
    "# Fit PCA\n",
    "pca = kNN.PCA(df_train_data.shape[1])\n",
    "pca.fit(df_train_data)"
   ]
  },
  {
   "cell_type": "markdown",
   "metadata": {},
   "source": [
    "##### Scree plot"
   ]
  },
  {
   "cell_type": "code",
   "execution_count": null,
   "metadata": {},
   "outputs": [],
   "source": [
    "values = pca.pc_values()\n",
    "g = sns.lineplot(data=values, legend='full')\n",
    "plt.xlabel(\"Components\")\n",
    "plt.ylabel(\"Eigenvalue\")\n",
    "plt.show()\n",
    "g = sns.lineplot(data=values[0:50], legend='full')\n",
    "plt.axhline(y=values[5], color='orange', linestyle='--')\n",
    "plt.axhline(y=values[25], color='r', linestyle='--')\n",
    "plt.xlabel(\"Components\")\n",
    "plt.ylabel(\"Eigenvalue\")\n",
    "plt.show()"
   ]
  },
  {
   "cell_type": "markdown",
   "metadata": {},
   "source": [
    "##### Accumulated explained variance"
   ]
  },
  {
   "cell_type": "code",
   "execution_count": null,
   "metadata": {},
   "outputs": [],
   "source": [
    "values = pca.pc_values()\n",
    "ratios = pca.pc_values()/sum(values)\n",
    "var_accum = ratios.cumsum()\n",
    "g = sns.lineplot(data=var_accum)\n",
    "plt.axhline(y=var_accum[5], color='orange', linestyle='--')\n",
    "plt.axhline(y=var_accum[25], color='r', linestyle='--')\n",
    "plt.xlabel(\"Components\")\n",
    "plt.ylabel(\"Variance explained\")"
   ]
  }
 ],
 "metadata": {
  "interpreter": {
   "hash": "f216903615eb8d87c55bd710f78c97e5d3ece4431102e2f634bf3faeb40be796"
  },
  "kernelspec": {
   "display_name": "Python 3.9.2 ('knn-classifier')",
   "language": "python",
   "name": "python3"
  },
  "language_info": {
   "codemirror_mode": {
    "name": "ipython",
    "version": 3
   },
   "file_extension": ".py",
   "mimetype": "text/x-python",
   "name": "python",
   "nbconvert_exporter": "python",
   "pygments_lexer": "ipython3",
   "version": "3.9.2"
  },
  "orig_nbformat": 4
 },
 "nbformat": 4,
 "nbformat_minor": 2
}
