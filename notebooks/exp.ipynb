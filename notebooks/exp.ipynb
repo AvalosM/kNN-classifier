{
 "cells": [
  {
   "cell_type": "markdown",
   "metadata": {},
   "source": [
    "#### Configure project"
   ]
  },
  {
   "cell_type": "code",
   "execution_count": null,
   "metadata": {},
   "outputs": [],
   "source": [
    "!cd .. && mkdir build\n",
    "!cd ../build/ && rm -rf *\n",
    "!rm -f *.so\n",
    "!cd ../build && cmake -DCMAKE_BUILD_TYPE=Release .."
   ]
  },
  {
   "cell_type": "markdown",
   "metadata": {},
   "source": [
    "#### Compile and install"
   ]
  },
  {
   "cell_type": "code",
   "execution_count": null,
   "metadata": {},
   "outputs": [],
   "source": [
    "!cd ../build && make install"
   ]
  },
  {
   "cell_type": "code",
   "execution_count": null,
   "metadata": {},
   "outputs": [],
   "source": [
    "import kNN\n",
    "import pandas as pd\n",
    "import seaborn as sns\n",
    "import matplotlib.pyplot as plt\n",
    "from tqdm.notebook import tqdm\n",
    "from timeit import default_timer as timer\n",
    "from sklearn.metrics import accuracy_score\n",
    "import numpy as np\n",
    "np.random.seed(1998)"
   ]
  },
  {
   "cell_type": "markdown",
   "metadata": {},
   "source": [
    "### Util"
   ]
  },
  {
   "cell_type": "code",
   "execution_count": null,
   "metadata": {},
   "outputs": [],
   "source": [
    "def data_labels(dataset):\n",
    "    data = dataset[dataset.columns[1:]].values\n",
    "    labels = dataset[\"label\"].values.reshape(-1,1)\n",
    "    return(data, labels)\n",
    "\n",
    "def save_res(cols, rows):\n",
    "    res = pd.DataFrame(rows, columns=cols)\n",
    "    res.to_csv(\"res/{}.csv\".format(rows[0][0]), index=False, header=True)\n",
    "\n",
    "# Run kNN for different k values on train dataset and validate\n",
    "def run_KNN(train, validate, klist):\n",
    "    train_data, train_labels = data_labels(train)\n",
    "    val_data, val_labels = data_labels(validate)\n",
    "    \n",
    "    # Fit classifier with train data\n",
    "    clf = kNN.KNNClassifier(0, 10)\n",
    "    clf.fit(train_data, train_labels)\n",
    "\n",
    "    results = []\n",
    "    klist_loop = tqdm(klist)\n",
    "    for k in klist_loop:\n",
    "        clf.setneighbors(k)\n",
    "        start = timer()\n",
    "\n",
    "        pred_labels = clf.predict(val_data)\n",
    "\n",
    "        end = timer()\n",
    "\n",
    "        results.append([k, accuracy_score(val_labels, pred_labels), end - start])\n",
    "\n",
    "    return results"
   ]
  },
  {
   "cell_type": "markdown",
   "metadata": {},
   "source": [
    "# Experimentacion"
   ]
  },
  {
   "cell_type": "code",
   "execution_count": null,
   "metadata": {},
   "outputs": [],
   "source": [
    "df_train = pd.read_csv(\"../data/fashion-mnist_train.csv\")\n",
    "df_test = pd.read_csv(\"../data/fashion-mnist_test.csv\")"
   ]
  },
  {
   "cell_type": "markdown",
   "metadata": {},
   "source": [
    "### k size test"
   ]
  },
  {
   "cell_type": "code",
   "execution_count": null,
   "metadata": {},
   "outputs": [],
   "source": [
    "percent = 0.1\n",
    "train = df_train.sample(int(df_train.shape[0] * percent))\n",
    "test = df_test.sample(int(df_test.shape[0] * percent))"
   ]
  },
  {
   "cell_type": "code",
   "execution_count": null,
   "metadata": {},
   "outputs": [],
   "source": [
    "k_list = np.arange(1, 101, 1)\n",
    "cols = [\"exp\", \"k\", \"acc\", \"time\"]\n",
    "save_res(cols, run_KNN(train, test, k_list))"
   ]
  },
  {
   "cell_type": "code",
   "execution_count": null,
   "metadata": {},
   "outputs": [],
   "source": [
    "results = pd.read_csv(\"res/k_size.csv\")\n",
    "g = sns.lineplot(data=results, x=\"k\", y=\"acc\", linewidth=2, label='accuracy')\n",
    "plt.show()\n",
    "\n",
    "g = sns.scatterplot(data=results, x='k', y='time')"
   ]
  }
 ],
 "metadata": {
  "interpreter": {
   "hash": "f216903615eb8d87c55bd710f78c97e5d3ece4431102e2f634bf3faeb40be796"
  },
  "kernelspec": {
   "display_name": "Python 3.9.2 ('knn-classifier')",
   "language": "python",
   "name": "python3"
  },
  "language_info": {
   "codemirror_mode": {
    "name": "ipython",
    "version": 3
   },
   "file_extension": ".py",
   "mimetype": "text/x-python",
   "name": "python",
   "nbconvert_exporter": "python",
   "pygments_lexer": "ipython3",
   "version": "3.9.2"
  },
  "orig_nbformat": 4
 },
 "nbformat": 4,
 "nbformat_minor": 2
}
