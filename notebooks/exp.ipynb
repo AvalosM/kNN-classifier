{
 "cells": [
  {
   "cell_type": "markdown",
   "metadata": {},
   "source": [
    "#### Configure project"
   ]
  },
  {
   "cell_type": "code",
   "execution_count": null,
   "metadata": {},
   "outputs": [],
   "source": [
    "!cd .. && mkdir build\n",
    "!cd ../build/ && rm -rf *\n",
    "!rm -f *.so\n",
    "!cd ../build && cmake -DCMAKE_BUILD_TYPE=Release .."
   ]
  },
  {
   "cell_type": "markdown",
   "metadata": {},
   "source": [
    "#### Compile and install"
   ]
  },
  {
   "cell_type": "code",
   "execution_count": null,
   "metadata": {},
   "outputs": [],
   "source": [
    "!cd ../build && make install"
   ]
  },
  {
   "cell_type": "code",
   "execution_count": null,
   "metadata": {},
   "outputs": [],
   "source": [
    "import kNN\n",
    "import pandas as pd\n",
    "import seaborn as sns\n",
    "import matplotlib.pyplot as plt\n",
    "from tqdm.autonotebook import tqdm\n",
    "from timeit import default_timer as timer\n",
    "from sklearn.metrics import accuracy_score\n",
    "import numpy as np\n",
    "np.random.seed(1998)"
   ]
  },
  {
   "cell_type": "markdown",
   "metadata": {},
   "source": [
    "### Util"
   ]
  },
  {
   "cell_type": "code",
   "execution_count": null,
   "metadata": {},
   "outputs": [],
   "source": [
    "def data_labels(dataset):\n",
    "    data = dataset[dataset.columns[1:]].values\n",
    "    labels = dataset[\"label\"].values.reshape(-1,1)\n",
    "    return(data, labels)\n",
    "\n",
    "def save_res(cols, rows, name):\n",
    "    res = pd.DataFrame(rows, columns=cols)\n",
    "    res.to_csv(\"res/{}.csv\".format(name), index=False, header=True)\n",
    "\n",
    "# Run kNN for different k values on train dataset and validate\n",
    "def run_KNN(train_data, train_labels, val_data, val_labels, klist, reps):    \n",
    "    # Fit classifier with train data\n",
    "    clf = kNN.KNNClassifier(0, 10)\n",
    "    clf.fit(train_data, train_labels)\n",
    "\n",
    "    results = []\n",
    "    for k in klist:\n",
    "        clf.setneighbors(k)\n",
    "        time = 0\n",
    "        for i in range(0, reps):\n",
    "            start = timer()\n",
    "\n",
    "            pred_labels = clf.predict(val_data)\n",
    "\n",
    "            end = timer()\n",
    "            time += end - start\n",
    "\n",
    "        results.append([k, accuracy_score(val_labels, pred_labels), time / reps])\n",
    "\n",
    "    return results\n",
    "\n",
    "def run_PCA_KNN(train, validate, klist, alphalist):\n",
    "    train_data, train_labels = data_labels(train)\n",
    "    val_data, val_labels = data_labels(validate)\n",
    "\n",
    "    # Fit\n",
    "    fit_time = timer()\n",
    "    pca = kNN.PCA(50)\n",
    "    pca.fit(train_data)\n",
    "    fit_time = timer() - fit_time\n",
    "\n",
    "    results = []\n",
    "    for alpha in alphalist:\n",
    "        # Basis change\n",
    "        pca.setalpha(alpha)\n",
    "\n",
    "        transform_train_time = timer()\n",
    "        train_data_t = pca.transform(train_data)\n",
    "        transform_train_time = timer() - transform_train_time\n",
    "        \n",
    "        transform_val_time = timer()\n",
    "        val_data_t = pca.transform(val_data)\n",
    "        transform_val_time = timer() - transform_val_time\n",
    "\n",
    "        # Predict with kNN\n",
    "        \n",
    "        kNN_results = run_KNN(train_data_t, train_labels, val_data_t, val_labels, klist, 1)\n",
    "        # Complete results\n",
    "        for result in kNN_results:\n",
    "            results.append([alpha] + result + [fit_time, transform_train_time, transform_val_time])\n",
    "            \n",
    "    return results\n",
    "\n",
    "\n"
   ]
  },
  {
   "cell_type": "markdown",
   "metadata": {},
   "source": [
    "# Experimentacion"
   ]
  },
  {
   "cell_type": "code",
   "execution_count": null,
   "metadata": {},
   "outputs": [],
   "source": [
    "df_train = pd.read_csv(\"../data/fashion-mnist_train.csv\")\n",
    "df_test = pd.read_csv(\"../data/fashion-mnist_test.csv\")"
   ]
  },
  {
   "cell_type": "markdown",
   "metadata": {},
   "source": [
    "### k size test"
   ]
  },
  {
   "cell_type": "code",
   "execution_count": null,
   "metadata": {},
   "outputs": [],
   "source": [
    "percent = 0.1\n",
    "train = df_train.sample(int(df_train.shape[0] * percent))\n",
    "test = df_test.sample(int(df_test.shape[0] * percent))\n",
    "\n",
    "train_data, train_labels = data_labels(train)\n",
    "val_data, val_labels = data_labels(test)"
   ]
  },
  {
   "cell_type": "code",
   "execution_count": null,
   "metadata": {},
   "outputs": [],
   "source": [
    "klist = np.arange(1,100+1, 1)\n",
    "cols = [\"k\", \"acc\", \"time\"]\n",
    "results = run_KNN(train_data, train_labels, val_data, val_labels, klist, 1)\n",
    "save_res(cols, results, \"k_size\")"
   ]
  },
  {
   "cell_type": "code",
   "execution_count": null,
   "metadata": {},
   "outputs": [],
   "source": [
    "results = pd.read_csv(\"res/k_size.csv\")\n",
    "g = sns.lineplot(data=results, x=\"k\", y=\"acc\", linewidth=2, label='accuracy')\n",
    "plt.show()\n",
    "\n",
    "g = sns.scatterplot(data=results, x='k', y='time')"
   ]
  },
  {
   "cell_type": "markdown",
   "metadata": {},
   "source": [
    "### alpha test"
   ]
  },
  {
   "cell_type": "code",
   "execution_count": null,
   "metadata": {},
   "outputs": [],
   "source": [
    "percent = 0.1\n",
    "train = df_train.sample(int(df_train.shape[0] * percent))\n",
    "test = df_test.sample(int(df_test.shape[0] * percent))"
   ]
  },
  {
   "cell_type": "code",
   "execution_count": null,
   "metadata": {},
   "outputs": [],
   "source": [
    "alphalist = tqdm(np.arange(1, 101, 1))\n",
    "klist = np.arange(1, 101, 1)\n",
    "cols = [\"alpha\",\"k\", \"acc\", \"kNN_time\", \"fit_time\", \"transform_train_time\", \"transform_val_time\"]\n",
    "results = run_PCA_KNN(train, test, klist, alphalist)\n",
    "save_res(cols, results, \"PCA_KNN\")"
   ]
  },
  {
   "cell_type": "code",
   "execution_count": null,
   "metadata": {},
   "outputs": [],
   "source": [
    "df = pd.read_csv(\"res/PCA_KNN.csv\")\n",
    "g = sns.lineplot(data=df, x=\"alpha\", y=\"acc\", hue=\"k\")"
   ]
  }
 ],
 "metadata": {
  "interpreter": {
   "hash": "f216903615eb8d87c55bd710f78c97e5d3ece4431102e2f634bf3faeb40be796"
  },
  "kernelspec": {
   "display_name": "Python 3.9.2 ('knn-classifier')",
   "language": "python",
   "name": "python3"
  },
  "language_info": {
   "codemirror_mode": {
    "name": "ipython",
    "version": 3
   },
   "file_extension": ".py",
   "mimetype": "text/x-python",
   "name": "python",
   "nbconvert_exporter": "python",
   "pygments_lexer": "ipython3",
   "version": "3.9.2"
  },
  "orig_nbformat": 4
 },
 "nbformat": 4,
 "nbformat_minor": 2
}
