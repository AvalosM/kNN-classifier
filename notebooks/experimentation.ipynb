{
 "cells": [
  {
   "cell_type": "markdown",
   "metadata": {},
   "source": [
    "#### Configure project"
   ]
  },
  {
   "cell_type": "code",
   "execution_count": null,
   "metadata": {
    "vscode": {
     "languageId": "shellscript"
    }
   },
   "outputs": [],
   "source": [
    "# !cd .. && mkdir build\n",
    "# !cd ../build/ && rm -rf *\n",
    "# !rm -f *.so\n",
    "# !cd ../build && cmake -DCMAKE_BUILD_TYPE=Release .."
   ]
  },
  {
   "cell_type": "markdown",
   "metadata": {},
   "source": [
    "#### Compile and install"
   ]
  },
  {
   "cell_type": "code",
   "execution_count": null,
   "metadata": {},
   "outputs": [],
   "source": [
    "# !cd ../build && make install"
   ]
  },
  {
   "cell_type": "markdown",
   "metadata": {},
   "source": [
    "#### Imports"
   ]
  },
  {
   "cell_type": "code",
   "execution_count": null,
   "metadata": {},
   "outputs": [],
   "source": [
    "import kNN\n",
    "import pandas as pd\n",
    "import numpy as np\n",
    "from tqdm.notebook import tqdm\n",
    "import timeit\n",
    "import time\n",
    "np.random.seed(1998)"
   ]
  },
  {
   "cell_type": "markdown",
   "metadata": {},
   "source": [
    "#### Utils"
   ]
  },
  {
   "cell_type": "code",
   "execution_count": null,
   "metadata": {},
   "outputs": [],
   "source": [
    "from sklearn.model_selection import KFold\n",
    "from sklearn.metrics import accuracy_score\n",
    "from sklearn.metrics import recall_score\n",
    "from sklearn.metrics import precision_score\n",
    "from sklearn.metrics import f1_score\n",
    "\n",
    "labels_ = [0,1,2,3,4,5,6,7,8,9]\n",
    "label_count_ = 10\n",
    "\n",
    "def data_labels(dataset):\n",
    "    # return (dataset[dataset.columns[1:]].values, dataset[\"label\"].values.reshape(-1,1))\n",
    "    return (dataset[dataset.columns[1:]].values, dataset[dataset.columns[0]])\n",
    "\n",
    "def save_df(df, name):\n",
    "    df.to_csv(\"res/{}.csv\".format(name), index=False, header=True)\n",
    "\n",
    "# Returns k splits of dataset (indexes)\n",
    "def Kfold_gen_splits(dataset, K):\n",
    "    return KFold(n_splits=K, shuffle=True, random_state=None).split(dataset)\n",
    "\n",
    "# Returns ((train_data, train_labels),(val_data, val_labels)) pair\n",
    "def Kfold_get_split(dataset, split):\n",
    "    train, test = split\n",
    "    return (data_labels(dataset.iloc[train]), data_labels(dataset.iloc[test]))\n",
    "\n",
    "def metrics(true_labels, pred_labels):\n",
    "    accuracy = accuracy_score(y_true=true_labels, y_pred=pred_labels)\n",
    "    precision = precision_score(y_true=true_labels, y_pred=pred_labels, labels=labels_, average='weighted', zero_division=0)\n",
    "    recall = recall_score(y_true=true_labels, y_pred=pred_labels, labels=labels_, average='weighted', zero_division=0)\n",
    "    f1 = f1_score(y_true=true_labels, y_pred=pred_labels, labels=labels_, average='weighted', zero_division=0)\n",
    "    return [accuracy, precision, recall, f1]\n",
    "\n",
    "def kNN_Kfold(dataset, K, ks, results, pbar_splits=False, pbar_ks=False):\n",
    "    splits = Kfold_gen_splits(dataset, K)\n",
    "    clf = kNN.KNNClassifier(0, label_count_)\n",
    "    dataset_size = dataset.shape[0]\n",
    "    ks_pbar = tqdm(total=len(ks), disable=not(pbar_ks))\n",
    "    for split in tqdm(list(splits), disable=not(pbar_splits)):\n",
    "        train_folds, test_fold = Kfold_get_split(dataset, split)\n",
    "        clf.fit(train_folds[0], train_folds[1])\n",
    "        for k in ks:\n",
    "            clf.setneighbors(k)\n",
    "            pred_labels = clf.predict(test_fold[0])\n",
    "            results.loc[len(results)] = [K, k, dataset_size] + metrics(test_fold[1], pred_labels)\n",
    "            ks_pbar.update()\n",
    "        ks_pbar.refresh()\n",
    "        ks_pbar.reset()\n",
    "    return results\n",
    "\n",
    "def kNN_PCA_Kfold(dataset, K, ks, alphas, results, pbar_splits=False, pbar_ks=False, pbar_alphas=False):\n",
    "    # Progress Bars\n",
    "    ks_pbar = tqdm(total=len(ks), disable=not(pbar_ks))\n",
    "    ks_pbar.set_description(\"k loop\")\n",
    "    alphas_pbar = tqdm(total=len(alphas), disable=not(pbar_alphas))\n",
    "    alphas_pbar.set_description(\"alpha loop\")\n",
    "    \n",
    "    splits = Kfold_gen_splits(dataset, K)\n",
    "    clf = kNN.KNNClassifier(0, label_count_)\n",
    "    dataset_size = dataset.shape[0]\n",
    "    pca = kNN.PCA(0)\n",
    "    for split in tqdm(list(splits), disable=not(pbar_splits)):\n",
    "        train, test = Kfold_get_split(dataset, split)\n",
    "        pca.fit(train[0])\n",
    "        for alpha in alphas:\n",
    "            pca.setalpha(alpha)\n",
    "            train_t = pca.transform(train[0])\n",
    "            test_t = pca.transform(test[0])\n",
    "            clf.fit(train_t, train[1])\n",
    "            for k in ks:\n",
    "                clf.setneighbors(k)\n",
    "                pred_labels = clf.predict(test_t)\n",
    "                results.loc[len(results)] = [K, k, alpha, dataset_size] + metrics(test[1], pred_labels)\n",
    "                ks_pbar.update()\n",
    "            alphas_pbar.update()\n",
    "            ks_pbar.refresh()\n",
    "            ks_pbar.reset()\n",
    "        alphas_pbar.refresh()\n",
    "        alphas_pbar.reset()\n",
    "\n",
    "columns_kNN = [\"K\", \"k\", \"size\", \"accuracy\", \"precision\", \"recall\", \"f1\"]\n",
    "columns_PCA = [\"K\", \"k\", \"alpha\", \"size\", \"accuracy\", \"precision\", \"recall\", \"f1\"]"
   ]
  },
  {
   "cell_type": "markdown",
   "metadata": {},
   "source": [
    "#### Load dataset"
   ]
  },
  {
   "cell_type": "code",
   "execution_count": null,
   "metadata": {},
   "outputs": [],
   "source": [
    "label_description = {0:\"T-shirt/top\", 1:\"Trouser\", 2:\"Pullover\", 3:\"Dress\", 4:\"Coat\", 5:\"Sandal\", 6:\"Shirt\", 7:\"Sneaker\", 8:\"Bag\", 9:\"Ankle boot\"}\n",
    "df_train = pd.read_csv(\"../data/fashion-mnist_train.csv\")\n",
    "df_test = pd.read_csv(\"../data/fashion-mnist_test.csv\")\n",
    "\n",
    "# Reduced dataset to test\n",
    "df_train_small = df_train.groupby(\"label\").sample(300)"
   ]
  },
  {
   "cell_type": "markdown",
   "metadata": {},
   "source": [
    "## Experimentation"
   ]
  },
  {
   "cell_type": "markdown",
   "metadata": {},
   "source": [
    "### Cross validation"
   ]
  },
  {
   "cell_type": "markdown",
   "metadata": {},
   "source": [
    "#### Leave-One-Out CV"
   ]
  },
  {
   "cell_type": "code",
   "execution_count": null,
   "metadata": {},
   "outputs": [],
   "source": [
    "K = df_train_small.shape[0]\n",
    "k = 1\n",
    "results = pd.DataFrame(columns=columns_kNN)\n",
    "kNN_Kfold(df_train_small, K, [k], results, True)\n",
    "save_df(results, 'LOOCV_kNN')"
   ]
  },
  {
   "cell_type": "code",
   "execution_count": null,
   "metadata": {},
   "outputs": [],
   "source": [
    "K = df_train_small.shape[0]\n",
    "k = 5\n",
    "alpha = 20\n",
    "results = pd.DataFrame(columns=columns_PCA)\n",
    "kNN_PCA_Kfold(df_train_small, K, [k], [alpha], results, True)\n",
    "save_df(results, 'LOOCV_PCA')"
   ]
  },
  {
   "cell_type": "markdown",
   "metadata": {},
   "source": [
    "#### KFold CV"
   ]
  },
  {
   "cell_type": "code",
   "execution_count": null,
   "metadata": {},
   "outputs": [],
   "source": [
    "Ks = np.arange(2, 30+1, 1)\n",
    "k = 1\n",
    "results = pd.DataFrame(columns=columns_kNN)\n",
    "for K in tqdm(Ks, position=0, leave=True):\n",
    "    kNN_Kfold(df_train_small, K, [k], results)\n",
    "save_df(results, \"KFold_K_kNN\")"
   ]
  },
  {
   "cell_type": "code",
   "execution_count": null,
   "metadata": {},
   "outputs": [],
   "source": [
    "Ks = np.arange(2, 30+1, 1)\n",
    "k = 5\n",
    "alpha = 20\n",
    "results = pd.DataFrame(columns=columns_PCA)\n",
    "for K in tqdm(Ks, position=0, leave=True):\n",
    "    kNN_PCA_Kfold(df_train_small, K, [k], [alpha], results, True)\n",
    "save_df(results, \"KFold_K_PCA\")"
   ]
  },
  {
   "cell_type": "markdown",
   "metadata": {},
   "source": [
    "K=10 seems to be a reasonable value"
   ]
  },
  {
   "cell_type": "code",
   "execution_count": null,
   "metadata": {},
   "outputs": [],
   "source": [
    "K_ = 10"
   ]
  },
  {
   "cell_type": "markdown",
   "metadata": {},
   "source": [
    "### kNN analysis"
   ]
  },
  {
   "cell_type": "markdown",
   "metadata": {},
   "source": [
    "#### Accuracy"
   ]
  },
  {
   "cell_type": "markdown",
   "metadata": {},
   "source": [
    "**Dataset size variable**\n",
    "1. Fixed k (1)\n",
    "2. Variable k proportional to dataset size (0.1)\n",
    "3. Variable k proportional to dataset size (size - size/K)"
   ]
  },
  {
   "cell_type": "code",
   "execution_count": null,
   "metadata": {},
   "outputs": [],
   "source": [
    "sizes = np.arange(10, df_train_small.shape[0]+1, 10)\n",
    "df = df_train_small.groupby(\"label\")"
   ]
  },
  {
   "cell_type": "code",
   "execution_count": null,
   "metadata": {},
   "outputs": [],
   "source": [
    "# 1\n",
    "k = 1\n",
    "results = pd.DataFrame(columns=columns_kNN)\n",
    "for size in tqdm(sizes):\n",
    "    kNN_Kfold(df.sample(size//10), K_, [k], results)\n",
    "save_df(results, \"kNN_k_fixed\")"
   ]
  },
  {
   "cell_type": "code",
   "execution_count": null,
   "metadata": {},
   "outputs": [],
   "source": [
    "# 2\n",
    "results = pd.DataFrame(columns=columns_kNN)\n",
    "for size in tqdm(sizes):\n",
    "    k = size // 10\n",
    "    kNN_Kfold(df.sample(size//10), K_, [k], results)\n",
    "save_df(results, \"kNN_k_proportional\")"
   ]
  },
  {
   "cell_type": "code",
   "execution_count": null,
   "metadata": {},
   "outputs": [],
   "source": [
    "# 3\n",
    "results = pd.DataFrame(columns=columns_kNN)\n",
    "for size in tqdm(sizes):\n",
    "    k = size - size // 10\n",
    "    kNN_Kfold(df.sample(size//10), K_, [k], results)\n",
    "save_df(results, \"kNN_k_size\")"
   ]
  },
  {
   "cell_type": "markdown",
   "metadata": {},
   "source": [
    "**Fixed dataset size**\n",
    "1. k variable (linear)\n",
    "2. k variable (log)"
   ]
  },
  {
   "cell_type": "code",
   "execution_count": null,
   "metadata": {},
   "outputs": [],
   "source": [
    "# 1\n",
    "ks = np.arange(1,200,1)\n",
    "results = pd.DataFrame(columns=columns_kNN)\n",
    "kNN_Kfold(df_train_small, K_, ks, results, True, True)\n",
    "save_df(results, \"kNN_k_linspace\")"
   ]
  },
  {
   "cell_type": "code",
   "execution_count": null,
   "metadata": {},
   "outputs": [],
   "source": [
    "# 2\n",
    "ks = np.unique(np.geomspace(1, df_train_small.shape[0] - df_train_small.shape[0]//K_).astype(int))\n",
    "results = pd.DataFrame(columns=columns_kNN)\n",
    "kNN_Kfold(df_train_small, K_, ks, results, True, True)\n",
    "save_df(results, \"kNN_k_logspace\")"
   ]
  },
  {
   "cell_type": "markdown",
   "metadata": {},
   "source": [
    "#### Performance"
   ]
  },
  {
   "cell_type": "markdown",
   "metadata": {},
   "source": [
    "k proportional to training dataset size"
   ]
  },
  {
   "cell_type": "code",
   "execution_count": null,
   "metadata": {},
   "outputs": [],
   "source": [
    "perf_data, perf_labels = data_labels(df_train_small)"
   ]
  },
  {
   "cell_type": "code",
   "execution_count": null,
   "metadata": {},
   "outputs": [],
   "source": [
    "clf = kNN.KNNClassifier(1, label_count_)\n",
    "sizes = np.arange(1, 1001, 1)\n",
    "times = []\n",
    "results = pd.DataFrame(columns=['size', 'time', 'k'])\n",
    "for size in tqdm(sizes):\n",
    "    clf.fit(perf_data[0:size], perf_labels[0:size])\n",
    "    clf.setneighbors(size)\n",
    "    results.loc[len(results)] = [size, (timeit.timeit(lambda: clf.predict(perf_data[0]), number = 20)/20),size]\n",
    "save_df(results, \"kNN_perf_k_proportional\")"
   ]
  },
  {
   "cell_type": "markdown",
   "metadata": {},
   "source": [
    "Fixed k, training dataset size variable"
   ]
  },
  {
   "cell_type": "code",
   "execution_count": null,
   "metadata": {},
   "outputs": [],
   "source": [
    "clf = kNN.KNNClassifier(1, 10)\n",
    "sizes = np.arange(1, 1001, 1)\n",
    "times = []\n",
    "results = pd.DataFrame(columns=['size', 'time', 'k'])\n",
    "for size in tqdm(sizes):\n",
    "    clf.fit(perf_data[0:size], perf_labels[0:size])\n",
    "    results.loc[len(results)] = [size, (timeit.timeit(lambda: clf.predict(perf_data[0]), number = 100)/100), 1]\n",
    "save_df(results, 'kNN_perf_k_fixed')"
   ]
  },
  {
   "cell_type": "markdown",
   "metadata": {},
   "source": [
    "### PCA & t-sne"
   ]
  },
  {
   "cell_type": "code",
   "execution_count": null,
   "metadata": {},
   "outputs": [],
   "source": [
    "from sklearn.manifold import TSNE\n",
    "train_data, train_labels = data_labels(df_train)\n",
    "test_data, test_labels = data_labels(df_test)"
   ]
  },
  {
   "cell_type": "code",
   "execution_count": null,
   "metadata": {},
   "outputs": [],
   "source": [
    "X_embedded = TSNE(n_components=2, perplexity=6, early_exaggeration=20,init='random').fit_transform(train_data)\n",
    "save_df(pd.DataFrame(X_embedded, columns=[\"x\", \"y\"]), \"tsne_n2\")"
   ]
  },
  {
   "cell_type": "code",
   "execution_count": null,
   "metadata": {},
   "outputs": [],
   "source": [
    "# Fit PCA\n",
    "pca = kNN.PCA(train_data.shape[1])\n",
    "pca.fit(train_data)\n",
    "pca.setalpha(2)\n",
    "\n",
    "train_data_t = pca.transform(train_data)\n",
    "df = pd.DataFrame(train_data_t, columns=['x','y'])\n",
    "save_df(df, \"PCA_alpha2\")"
   ]
  },
  {
   "cell_type": "code",
   "execution_count": null,
   "metadata": {},
   "outputs": [],
   "source": [
    "# Fit PCA\n",
    "pca = kNN.PCA(train_data.shape[1])\n",
    "pca.fit(train_data)\n",
    "pca.setalpha(5)\n",
    "\n",
    "train_data_t = pca.transform(train_data)\n",
    "X_embedded = TSNE(n_components=2, perplexity=6, early_exaggeration=20, learning_rate='auto', init='random').fit_transform(train_data_t)\n",
    "save_df(pd.DataFrame(X_embedded, columns=[\"x\", \"y\"]), \"tsne_PCA_alpha5\")"
   ]
  },
  {
   "cell_type": "code",
   "execution_count": null,
   "metadata": {},
   "outputs": [],
   "source": [
    "# Fit PCA\n",
    "pca = kNN.PCA(train_data.shape[1])\n",
    "pca.fit(train_data)\n",
    "pca.setalpha(50)\n",
    "\n",
    "train_data_t = pca.transform(train_data)\n",
    "X_embedded = TSNE(n_components=2, perplexity=6, early_exaggeration=20, learning_rate='auto', init='random').fit_transform(train_data_t)\n",
    "save_df(pd.DataFrame(X_embedded, columns=[\"x\", \"y\"]), \"tsne_PCA_50\")"
   ]
  },
  {
   "cell_type": "code",
   "execution_count": null,
   "metadata": {},
   "outputs": [],
   "source": [
    "# Fit PCA\n",
    "pca = kNN.PCA(train_data.shape[1])\n",
    "pca.fit(train_data)\n",
    "pca.setalpha(100)\n",
    "\n",
    "train_data_t = pca.transform(train_data)\n",
    "X_embedded = TSNE(n_components=2, perplexity=6, early_exaggeration=20, learning_rate='auto', init='random').fit_transform(train_data_t)\n",
    "save_df(pd.DataFrame(X_embedded, columns=[\"x\", \"y\"]), \"tsne_PCA_100\")"
   ]
  },
  {
   "cell_type": "markdown",
   "metadata": {},
   "source": [
    "### PCA analysis"
   ]
  },
  {
   "cell_type": "markdown",
   "metadata": {},
   "source": [
    "#### Principal component number"
   ]
  },
  {
   "cell_type": "markdown",
   "metadata": {},
   "source": [
    "##### Scree plot"
   ]
  },
  {
   "cell_type": "code",
   "execution_count": null,
   "metadata": {},
   "outputs": [],
   "source": [
    "# Fit PCA\n",
    "pca = kNN.PCA(train_data.shape[1])\n",
    "pca.fit(train_data)\n",
    "values = pca.pc_values()\n",
    "\n",
    "save_df(pd.DataFrame(values, columns=['values']), \"PCA_component_values\")"
   ]
  },
  {
   "cell_type": "markdown",
   "metadata": {},
   "source": [
    "##### Cumulative explained variance"
   ]
  },
  {
   "cell_type": "markdown",
   "metadata": {},
   "source": [
    "##### kNN + PCA"
   ]
  },
  {
   "cell_type": "markdown",
   "metadata": {},
   "source": [
    "Now lets see how alpha affects kNN accuracy"
   ]
  },
  {
   "cell_type": "code",
   "execution_count": null,
   "metadata": {},
   "outputs": [],
   "source": [
    "ks = np.arange(1, 100+1, 1)\n",
    "alphas = np.arange(1, 100+1, 1)\n",
    "results = pd.DataFrame(columns=columns_PCA)\n",
    "kNN_PCA_Kfold(df_train_small, K_, ks, alphas, results, True, True, True)\n",
    "save_df(results, 'kNN_PCA_k_alpha_variable_small')"
   ]
  },
  {
   "cell_type": "code",
   "execution_count": null,
   "metadata": {},
   "outputs": [],
   "source": [
    "ks = np.linspace(1, df_train_small.shape[0] - df_train_small.shape[0]//K_, num=28,dtype=int)\n",
    "alphas = np.linspace(1, df_train_small.shape[1], num=28, dtype=int)\n",
    "results = pd.DataFrame(columns=columns_PCA)\n",
    "kNN_PCA_Kfold(df_train_small, K_, ks, alphas, results, True, True, True)\n",
    "save_df(results, 'kNN_PCA_k_alpha_variable')"
   ]
  },
  {
   "cell_type": "markdown",
   "metadata": {},
   "source": [
    "Test optimized parameters against train and test datasets"
   ]
  },
  {
   "cell_type": "code",
   "execution_count": null,
   "metadata": {},
   "outputs": [],
   "source": [
    "# Predict labels with kNN\n",
    "knn_start = time.time()\n",
    "\n",
    "clf = kNN.KNNClassifier(6, label_count_)\n",
    "clf.fit(train_data, train_labels)\n",
    "pred_labels = clf.predict(test_data)\n",
    "\n",
    "knn_time = time.time() - knn_start\n",
    "print(\"kNN fit/predict time: %.3fs\" % knn_time)\n",
    "\n",
    "results = pd.DataFrame(columns=['true_labels', 'pred_labels'])\n",
    "results['true_labels'] = test_labels\n",
    "results['pred_labels'] = pred_labels\n",
    "save_df(results, \"kNN_k6\")"
   ]
  },
  {
   "cell_type": "code",
   "execution_count": null,
   "metadata": {},
   "outputs": [],
   "source": [
    "# Dimensionality reduction with PCA\n",
    "pca_start = time.time()\n",
    "\n",
    "pca = kNN.PCA(43)\n",
    "pca.fit(train_data)\n",
    "train_data_t = pca.transform(train_data)\n",
    "test_data_t = pca.transform(test_data)\n",
    "\n",
    "pca_time = time.time() - pca_start\n",
    "print(\"PCA fit/transform time: %.3fs\" % pca_time)\n",
    "\n",
    "# Predict labels with kNN\n",
    "knn_start = time.time()\n",
    "\n",
    "clf = kNN.KNNClassifier(6, label_count_)\n",
    "clf.fit(train_data_t, train_labels)\n",
    "pred_labels = clf.predict(test_data_t)\n",
    "\n",
    "knn_time = time.time() - knn_start\n",
    "print(\"kNN fit/predict time: %.3fs\" % knn_time)\n",
    "print(\"Total time: %.3fs\" % (pca_time + knn_time))\n",
    "results = pd.DataFrame(columns=['true_labels', 'pred_labels'])\n",
    "results['true_labels'] = test_labels\n",
    "results['pred_labels'] = pred_labels\n",
    "save_df(results, \"kNN_PCA_k6_alpha43\")"
   ]
  }
 ],
 "metadata": {
  "kernelspec": {
   "display_name": "Python 3.9.2 ('knn-classifier')",
   "language": "python",
   "name": "python3"
  },
  "language_info": {
   "codemirror_mode": {
    "name": "ipython",
    "version": 3
   },
   "file_extension": ".py",
   "mimetype": "text/x-python",
   "name": "python",
   "nbconvert_exporter": "python",
   "pygments_lexer": "ipython3",
   "version": "3.9.2"
  },
  "orig_nbformat": 4,
  "vscode": {
   "interpreter": {
    "hash": "f216903615eb8d87c55bd710f78c97e5d3ece4431102e2f634bf3faeb40be796"
   }
  }
 },
 "nbformat": 4,
 "nbformat_minor": 2
}
